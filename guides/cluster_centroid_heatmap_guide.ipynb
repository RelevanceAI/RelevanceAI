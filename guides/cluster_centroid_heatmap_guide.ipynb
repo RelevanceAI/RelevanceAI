{
 "cells": [
  {
   "cell_type": "markdown",
   "id": "5e9a68f1",
   "metadata": {},
   "source": [
    "# ☀️ Cluster Centroid Heat Maps"
   ]
  },
  {
   "cell_type": "markdown",
   "id": "8e5e22a9",
   "metadata": {},
   "source": [
    "In order to better interpret your clusters, you may need to visualise them using heatmaps. These heatmaps allow users to see which clusters are the closest."
   ]
  },
  {
   "cell_type": "code",
   "execution_count": 1,
   "id": "56933af0",
   "metadata": {},
   "outputs": [],
   "source": [
    "%load_ext autoreload\n",
    "%autoreload 2"
   ]
  },
  {
   "cell_type": "markdown",
   "id": "d88414cd",
   "metadata": {},
   "source": [
    "## Installation"
   ]
  },
  {
   "cell_type": "code",
   "execution_count": null,
   "id": "c1d32208",
   "metadata": {},
   "outputs": [],
   "source": [
    "!pip install -q jsonshower"
   ]
  },
  {
   "cell_type": "code",
   "execution_count": 2,
   "id": "1681ce1f",
   "metadata": {},
   "outputs": [],
   "source": [
    "from relevanceai import Client"
   ]
  },
  {
   "cell_type": "code",
   "execution_count": 12,
   "id": "51e65f9e",
   "metadata": {},
   "outputs": [],
   "source": [
    "client = Client()"
   ]
  },
  {
   "cell_type": "markdown",
   "id": "0cd25425",
   "metadata": {},
   "source": [
    "You can retrieve the ecommerce dataset from https://relevanceai.readthedocs.io/en/development/core/available_datasets.html#relevanceai.utils.datasets.get_ecommerce_1_dataset."
   ]
  },
  {
   "cell_type": "code",
   "execution_count": 4,
   "id": "0f45bd3a",
   "metadata": {},
   "outputs": [],
   "source": [
    "ds = client.Dataset(\"ecommerce\")"
   ]
  },
  {
   "cell_type": "markdown",
   "id": "00f6c14b",
   "metadata": {},
   "source": [
    "## Centroid Heatmap"
   ]
  },
  {
   "cell_type": "code",
   "execution_count": 6,
   "id": "afb228ff",
   "metadata": {},
   "outputs": [],
   "source": [
    "from relevanceai.operations.viz.cluster import ClusterVizOps\n",
    "\n",
    "cluster_ops = ClusterVizOps.from_dataset(\n",
    "    ds, alias=\"main-cluster\", vector_fields=[\"product_image_clip_vector_\"]\n",
    ")"
   ]
  },
  {
   "cell_type": "code",
   "execution_count": 7,
   "id": "1ea8f332",
   "metadata": {},
   "outputs": [
    {
     "name": "stdout",
     "output_type": "stream",
     "text": [
      "Your closest centroids are:\n",
      "0.74 cluster-5, cluster-1\n",
      "0.73 cluster-5, cluster-4\n",
      "0.71 cluster-4, cluster-1\n",
      "0.65 cluster-4, cluster-2\n",
      "0.65 cluster-7, cluster-2\n",
      "0.64 cluster-7, cluster-4\n",
      "0.64 cluster-7, cluster-5\n",
      "0.63 cluster-5, cluster-2\n"
     ]
    },
    {
     "data": {
      "text/plain": [
       "[Text(0.5, 1.0, 'cosine plot')]"
      ]
     },
     "execution_count": 7,
     "metadata": {},
     "output_type": "execute_result"
    },
    {
     "data": {
      "image/png": "[encoded data removed]",
      "text/plain": [
       "<Figure size 432x288 with 2 Axes>"
      ]
     },
     "metadata": {
      "needs_background": "light"
     },
     "output_type": "display_data"
    }
   ],
   "source": [
    "cluster_ops.centroid_heatmap()"
   ]
  },
  {
   "cell_type": "markdown",
   "id": "4ea8b0d0",
   "metadata": {},
   "source": [
    "Now we can see if our clusters are useful when we check the dashboard and inspect those clusters:"
   ]
  },
  {
   "cell_type": "code",
   "execution_count": 8,
   "id": "e6e775a9",
   "metadata": {},
   "outputs": [
    {
     "name": "stdout",
     "output_type": "stream",
     "text": [
      "You can now visit the dashboard at https://cloud.relevance.ai/sdk/cluster/centroids/closest\n"
     ]
    }
   ],
   "source": [
    "closest = cluster_ops.closest()[\"results\"]"
   ]
  },
  {
   "cell_type": "markdown",
   "id": "640c662b",
   "metadata": {},
   "source": [
    "Below, we can now see if 2 separate clusters. One for boots and one for shoes and if we need that granularity."
   ]
  },
  {
   "cell_type": "code",
   "execution_count": 13,
   "id": "a02e2afd",
   "metadata": {},
   "outputs": [
    {
     "name": "stdout",
     "output_type": "stream",
     "text": [
      "You can now visit the dashboard at https://cloud.relevance.ai/sdk/cluster/centroids/closest\n"
     ]
    },
    {
     "data": {
      "text/html": [
       "<table border=\"1\" class=\"dataframe\">\n",
       "  <thead>\n",
       "    <tr style=\"text-align: right;\">\n",
       "      <th></th>\n",
       "      <th>product_image</th>\n",
       "      <th>cluster_id</th>\n",
       "      <th>_id</th>\n",
       "    </tr>\n",
       "  </thead>\n",
       "  <tbody>\n",
       "    <tr>\n",
       "      <th>0</th>\n",
       "      <td><img src=\"https://ak1.ostkcdn.com/images/products/86/232/P16884067.jpg\" width=\"60\" ></td>\n",
       "      <td>cluster-1</td>\n",
       "      <td>931f907b-13f1-41e5-92fe-c8007cdedada</td>\n",
       "    </tr>\n",
       "    <tr>\n",
       "      <th>1</th>\n",
       "      <td><img src=\"https://ak1.ostkcdn.com/images/products/88/404/P17193637.jpg\" width=\"60\" ></td>\n",
       "      <td>cluster-1</td>\n",
       "      <td>93734870-b304-4426-9cd4-d906fea340b8</td>\n",
       "    </tr>\n",
       "    <tr>\n",
       "      <th>2</th>\n",
       "      <td><img src=\"https://ak1.ostkcdn.com/images/products/9487516/P16668681.jpg\" width=\"60\" ></td>\n",
       "      <td>cluster-1</td>\n",
       "      <td>6416c33d-3287-446c-90d3-ea220bf6312b</td>\n",
       "    </tr>\n",
       "    <tr>\n",
       "      <th>3</th>\n",
       "      <td><img src=\"https://ak1.ostkcdn.com/images/products/9751751/P90001643.jpg\" width=\"60\" ></td>\n",
       "      <td>cluster-5</td>\n",
       "      <td>8f5dfc61-6fd1-422e-9682-7df039b8c099</td>\n",
       "    </tr>\n",
       "    <tr>\n",
       "      <th>4</th>\n",
       "      <td><img src=\"https://ak1.ostkcdn.com/images/products/9773069/P16943222.jpg\" width=\"60\" ></td>\n",
       "      <td>cluster-5</td>\n",
       "      <td>65082728-720b-4604-8ee4-f7d0ecab0e7f</td>\n",
       "    </tr>\n",
       "    <tr>\n",
       "      <th>5</th>\n",
       "      <td><img src=\"https://ak1.ostkcdn.com/images/products/8229906/P15559549.jpg\" width=\"60\" ></td>\n",
       "      <td>cluster-5</td>\n",
       "      <td>7ace5350-1487-44d3-9840-2b89183f3117</td>\n",
       "    </tr>\n",
       "  </tbody>\n",
       "</table>"
      ],
      "text/plain": [
       "<IPython.core.display.HTML object>"
      ]
     },
     "execution_count": 13,
     "metadata": {},
     "output_type": "execute_result"
    }
   ],
   "source": [
    "cluster_ops.show_closest(\n",
    "    cluster_ids=[\"cluster-1\", \"cluster-5\"], image_fields=[\"product_image\"]\n",
    ")"
   ]
  }
 ],
 "metadata": {
  "kernelspec": {
   "display_name": "Python 3 (ipykernel)",
   "language": "python",
   "name": "python3"
  },
  "language_info": {
   "codemirror_mode": {
    "name": "ipython",
    "version": 3
   },
   "file_extension": ".py",
   "mimetype": "text/x-python",
   "name": "python",
   "nbconvert_exporter": "python",
   "pygments_lexer": "ipython3",
   "version": "3.8.9"
  }
 },
 "nbformat": 4,
 "nbformat_minor": 5
}
