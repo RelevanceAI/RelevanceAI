{
 "cells": [
  {
   "cell_type": "markdown",
   "metadata": {},
   "source": [
    "# 🏘️ Aggregation QuickStart"
   ]
  },
  {
   "cell_type": "markdown",
   "metadata": {
    "id": "2fchptpo9hl9"
   },
   "source": [
    "\n",
    "[![Open In Colab](https://colab.research.google.com/assets/colab-badge.svg)](https://colab.research.google.com/github/RelevanceAI/RelevanceAI-readme-docs/blob/v2.0.0/docs/general-features/aggregations/_notebooks/RelevanceAI_ReadMe_Quickstart_Aggregations.ipynb)\n",
    "\n",
    "\n",
    "# Installation"
   ]
  },
  {
   "cell_type": "code",
   "execution_count": null,
   "metadata": {
    "id": "YYVL1Lg39EVu"
   },
   "outputs": [],
   "source": [
    "# remove `!` if running the line in a terminal\n",
    "!pip install -U RelevanceAI[notebook]==2.0.0"
   ]
  },
  {
   "cell_type": "markdown",
   "metadata": {
    "id": "k1yHM-mnjGcQ"
   },
   "source": [
    "# Setup\n",
    "\n",
    "You can sign up/login and find your credentials here: https://cloud.relevance.ai/sdk/api\n",
    "Once you have signed up, click on the value under `Activation token` and paste it here"
   ]
  },
  {
   "cell_type": "code",
   "execution_count": null,
   "metadata": {
    "colab": {
     "base_uri": "https://localhost:8080/"
    },
    "id": "cDJ34fhYjD24",
    "outputId": "812611cf-e6f2-4818-807b-989ec77bb826"
   },
   "outputs": [
    {
     "name": "stdout",
     "output_type": "stream",
     "text": [
      "Activation token (you can find it here: https://cloud.relevance.ai/sdk/api )\n",
      "\n",
      "Activation Token: ··········\n",
      "Connecting to us-east-1...\n",
      "You can view all your datasets at https://cloud.relevance.ai/datasets/\n",
      "Welcome to RelevanceAI. Logged in as 334fe5fb667b3a64dada.\n"
     ]
    }
   ],
   "source": [
    "from relevanceai import Client\n",
    "\n",
    "client = Client()"
   ]
  },
  {
   "cell_type": "markdown",
   "metadata": {
    "id": "XmkA64yvjOQc"
   },
   "source": [
    "# Data"
   ]
  },
  {
   "cell_type": "code",
   "execution_count": null,
   "metadata": {
    "colab": {
     "base_uri": "https://localhost:8080/",
     "height": 594
    },
    "id": "I_pAbbaO8F9r",
    "outputId": "d37d257a-0a47-42cf-ca60-70fc28187d71"
   },
   "outputs": [
    {
     "data": {
      "text/html": [
       "\n",
       "  <div id=\"df-c6baa545-5f21-4092-b3a6-110875a3a28f\">\n",
       "    <div class=\"colab-df-container\">\n",
       "      <div>\n",
       "<style scoped>\n",
       "    .dataframe tbody tr th:only-of-type {\n",
       "        vertical-align: middle;\n",
       "    }\n",
       "\n",
       "    .dataframe tbody tr th {\n",
       "        vertical-align: top;\n",
       "    }\n",
       "\n",
       "    .dataframe thead th {\n",
       "        text-align: right;\n",
       "    }\n",
       "</style>\n",
       "<table border=\"1\" class=\"dataframe\">\n",
       "  <thead>\n",
       "    <tr style=\"text-align: right;\">\n",
       "      <th></th>\n",
       "      <th>image_url_4_vector_</th>\n",
       "      <th>hasFloorplan</th>\n",
       "      <th>image_url_vector_</th>\n",
       "      <th>listingType</th>\n",
       "      <th>image_url_2_vector_</th>\n",
       "      <th>image_url_2</th>\n",
       "      <th>propertyDetails</th>\n",
       "      <th>listingSlug</th>\n",
       "      <th>id</th>\n",
       "      <th>headline</th>\n",
       "      <th>...</th>\n",
       "      <th>image_url_5_clip_vector_</th>\n",
       "      <th>image_url_2_label</th>\n",
       "      <th>image_url_4_label</th>\n",
       "      <th>image_url_2_clip_vector_</th>\n",
       "      <th>image_url_4_clip_vector_</th>\n",
       "      <th>image_url_5_label</th>\n",
       "      <th>image_url_clip_vector_</th>\n",
       "      <th>image_url_label</th>\n",
       "      <th>_cluster_</th>\n",
       "      <th>_id</th>\n",
       "    </tr>\n",
       "  </thead>\n",
       "  <tbody>\n",
       "    <tr>\n",
       "      <th>0</th>\n",
       "      <td>[1e-07, 1e-07, 1e-07, 1e-07, 1e-07, 1e-07, 1e-...</td>\n",
       "      <td>False</td>\n",
       "      <td>[1e-07, 1e-07, 1e-07, 1e-07, 1e-07, 1e-07, 1e-...</td>\n",
       "      <td>Rent</td>\n",
       "      <td>[1e-07, 1e-07, 1e-07, 1e-07, 1e-07, 1e-07, 1e-...</td>\n",
       "      <td>https://bucket-api.domain.com.au/v1/bucket/ima...</td>\n",
       "      <td>{'area': 'Eastern Suburbs', 'carspaces': 2, 's...</td>\n",
       "      <td>407-39-kent-street-mascot-nsw-2020-14806988</td>\n",
       "      <td>14806988</td>\n",
       "      <td>Stunning &amp; Modern Two Bedroom Apartment</td>\n",
       "      <td>...</td>\n",
       "      <td>[-0.4681514799594879, 0.08181382715702057, 0.1...</td>\n",
       "      <td>hoosegow</td>\n",
       "      <td>clubrooms</td>\n",
       "      <td>[-0.4723101556301117, 0.012517078779637814, -0...</td>\n",
       "      <td>[-0.6319758296012878, 0.1783788651227951, 0.13...</td>\n",
       "      <td>mudrooms</td>\n",
       "      <td>[-0.37417566776275635, 0.05725931376218796, -0...</td>\n",
       "      <td>showrooms</td>\n",
       "      <td>{'image_url_vector_': {'default': 0}, 'image_t...</td>\n",
       "      <td>-0JggHcBgSy8FC2yCzRU</td>\n",
       "    </tr>\n",
       "    <tr>\n",
       "      <th>1</th>\n",
       "      <td>[1e-07, 1e-07, 1e-07, 1e-07, 1e-07, 1e-07, 1e-...</td>\n",
       "      <td>False</td>\n",
       "      <td>[1e-07, 1e-07, 1e-07, 1e-07, 1e-07, 1e-07, 1e-...</td>\n",
       "      <td>Rent</td>\n",
       "      <td>[1e-07, 1e-07, 1e-07, 1e-07, 1e-07, 1e-07, 1e-...</td>\n",
       "      <td>https://bucket-api.domain.com.au/v1/bucket/ima...</td>\n",
       "      <td>{'area': 'Eastern Suburbs', 'streetNumber': '2...</td>\n",
       "      <td>2-256-new-south-head-double-bay-nsw-2028-14816127</td>\n",
       "      <td>14816127</td>\n",
       "      <td>Two Bedrooms Apartments just newly renovated</td>\n",
       "      <td>...</td>\n",
       "      <td>[-0.4457785189151764, 0.14002937078475952, -0....</td>\n",
       "      <td>viewings</td>\n",
       "      <td>mudroom</td>\n",
       "      <td>[-0.37797173857688904, 0.04217493161559105, -0...</td>\n",
       "      <td>[-0.6865466833114624, 0.19351454079151154, 0.1...</td>\n",
       "      <td>mudroom</td>\n",
       "      <td>[-0.5267254114151001, 0.22717250883579254, -0....</td>\n",
       "      <td>appartements</td>\n",
       "      <td>{'image_url_vector_': {'default': 0}, 'image_t...</td>\n",
       "      <td>-0JggHcBgSy8FC2yCzVU</td>\n",
       "    </tr>\n",
       "    <tr>\n",
       "      <th>2</th>\n",
       "      <td>[1e-07, 1e-07, 1e-07, 1e-07, 1e-07, 1e-07, 1e-...</td>\n",
       "      <td>True</td>\n",
       "      <td>[1e-07, 1e-07, 1e-07, 1e-07, 1e-07, 1e-07, 1e-...</td>\n",
       "      <td>Rent</td>\n",
       "      <td>[1e-07, 1e-07, 1e-07, 1e-07, 1e-07, 1e-07, 1e-...</td>\n",
       "      <td>https://bucket-api.domain.com.au/v1/bucket/ima...</td>\n",
       "      <td>{'area': 'Eastern Suburbs', 'streetNumber': '1...</td>\n",
       "      <td>19-11-21-flinders-street-surry-hills-nsw-2010-...</td>\n",
       "      <td>14842628</td>\n",
       "      <td>Iconic lifestyle pad in Urbis building</td>\n",
       "      <td>...</td>\n",
       "      <td>[-0.06582163274288177, 0.10252979397773743, 0....</td>\n",
       "      <td>appartements</td>\n",
       "      <td>backsplash</td>\n",
       "      <td>[0.060137778520584106, 0.31164053082466125, 0....</td>\n",
       "      <td>[-0.20558945834636688, 0.6132649183273315, 0.0...</td>\n",
       "      <td>serigraph</td>\n",
       "      <td>[-0.2266240119934082, 0.3205014765262604, 0.19...</td>\n",
       "      <td>appartements</td>\n",
       "      <td>{'image_url_vector_': {'default': 0}, 'image_t...</td>\n",
       "      <td>-0JggHcBgSy8FC2ykDbk</td>\n",
       "    </tr>\n",
       "    <tr>\n",
       "      <th>3</th>\n",
       "      <td>[1e-07, 1e-07, 1e-07, 1e-07, 1e-07, 1e-07, 1e-...</td>\n",
       "      <td>False</td>\n",
       "      <td>[1e-07, 1e-07, 1e-07, 1e-07, 1e-07, 1e-07, 1e-...</td>\n",
       "      <td>Rent</td>\n",
       "      <td>[1e-07, 1e-07, 1e-07, 1e-07, 1e-07, 1e-07, 1e-...</td>\n",
       "      <td>https://bucket-api.domain.com.au/v1/bucket/ima...</td>\n",
       "      <td>{'area': 'Inner West', 'streetNumber': '13', '...</td>\n",
       "      <td>13-formosa-st-drummoyne-nsw-2047-14828984</td>\n",
       "      <td>14828984</td>\n",
       "      <td>Heritage Semi to rent</td>\n",
       "      <td>...</td>\n",
       "      <td>[-0.334237277507782, 0.140365868806839, -0.236...</td>\n",
       "      <td>kitchen</td>\n",
       "      <td>entryway</td>\n",
       "      <td>[-0.32477402687072754, 0.4767194986343384, 0.1...</td>\n",
       "      <td>[0.12064582854509354, 0.3271999657154083, -0.2...</td>\n",
       "      <td>appartements</td>\n",
       "      <td>[-0.11818409711122513, 0.09542372077703476, -0...</td>\n",
       "      <td>pub</td>\n",
       "      <td>{'image_url_vector_': {'default': 0}, 'image_t...</td>\n",
       "      <td>-0JggHcBgSy8FC2ykDfk</td>\n",
       "    </tr>\n",
       "    <tr>\n",
       "      <th>4</th>\n",
       "      <td>[1e-07, 1e-07, 1e-07, 1e-07, 1e-07, 1e-07, 1e-...</td>\n",
       "      <td>False</td>\n",
       "      <td>[0.0394604466855526, 0, 5.5613274574279785, 0....</td>\n",
       "      <td>Rent</td>\n",
       "      <td>[0.24612084031105042, 0.347802996635437, 0.574...</td>\n",
       "      <td>https://bucket-api.domain.com.au/v1/bucket/ima...</td>\n",
       "      <td>{'area': 'St George', 'carspaces': 1, 'streetN...</td>\n",
       "      <td>103-11-17-woodville-street-hurstville-nsw-2220...</td>\n",
       "      <td>14741619</td>\n",
       "      <td>UNIQUE APARTMENT IN PRIME LOCATION</td>\n",
       "      <td>...</td>\n",
       "      <td>[-0.3391430079936981, 0.024984989315271378, -0...</td>\n",
       "      <td>kitchen</td>\n",
       "      <td>sideman</td>\n",
       "      <td>[-0.3949810862541199, 0.3241899311542511, -0.1...</td>\n",
       "      <td>[1e-07, 1e-07, 1e-07, 1e-07, 1e-07, 1e-07, 1e-...</td>\n",
       "      <td>vitrine</td>\n",
       "      <td>[-0.28189733624458313, 0.061684366315603256, -...</td>\n",
       "      <td>cornlofts</td>\n",
       "      <td>{'image_url_vector_': {'default': 5}, 'image_t...</td>\n",
       "      <td>-0JhgHcBgSy8FC2y9TjX</td>\n",
       "    </tr>\n",
       "  </tbody>\n",
       "</table>\n",
       "<p>5 rows × 34 columns</p>\n",
       "</div>\n",
       "      <button class=\"colab-df-convert\" onclick=\"convertToInteractive('df-c6baa545-5f21-4092-b3a6-110875a3a28f')\"\n",
       "              title=\"Convert this dataframe to an interactive table.\"\n",
       "              style=\"display:none;\">\n",
       "        \n",
       "  <svg xmlns=\"http://www.w3.org/2000/svg\" height=\"24px\"viewBox=\"0 0 24 24\"\n",
       "       width=\"24px\">\n",
       "    <path d=\"M0 0h24v24H0V0z\" fill=\"none\"/>\n",
       "    <path d=\"M18.56 5.44l.94 2.06.94-2.06 2.06-.94-2.06-.94-.94-2.06-.94 2.06-2.06.94zm-11 1L8.5 8.5l.94-2.06 2.06-.94-2.06-.94L8.5 2.5l-.94 2.06-2.06.94zm10 10l.94 2.06.94-2.06 2.06-.94-2.06-.94-.94-2.06-.94 2.06-2.06.94z\"/><path d=\"M17.41 7.96l-1.37-1.37c-.4-.4-.92-.59-1.43-.59-.52 0-1.04.2-1.43.59L10.3 9.45l-7.72 7.72c-.78.78-.78 2.05 0 2.83L4 21.41c.39.39.9.59 1.41.59.51 0 1.02-.2 1.41-.59l7.78-7.78 2.81-2.81c.8-.78.8-2.07 0-2.86zM5.41 20L4 18.59l7.72-7.72 1.47 1.35L5.41 20z\"/>\n",
       "  </svg>\n",
       "      </button>\n",
       "      \n",
       "  <style>\n",
       "    .colab-df-container {\n",
       "      display:flex;\n",
       "      flex-wrap:wrap;\n",
       "      gap: 12px;\n",
       "    }\n",
       "\n",
       "    .colab-df-convert {\n",
       "      background-color: #E8F0FE;\n",
       "      border: none;\n",
       "      border-radius: 50%;\n",
       "      cursor: pointer;\n",
       "      display: none;\n",
       "      fill: #1967D2;\n",
       "      height: 32px;\n",
       "      padding: 0 0 0 0;\n",
       "      width: 32px;\n",
       "    }\n",
       "\n",
       "    .colab-df-convert:hover {\n",
       "      background-color: #E2EBFA;\n",
       "      box-shadow: 0px 1px 2px rgba(60, 64, 67, 0.3), 0px 1px 3px 1px rgba(60, 64, 67, 0.15);\n",
       "      fill: #174EA6;\n",
       "    }\n",
       "\n",
       "    [theme=dark] .colab-df-convert {\n",
       "      background-color: #3B4455;\n",
       "      fill: #D2E3FC;\n",
       "    }\n",
       "\n",
       "    [theme=dark] .colab-df-convert:hover {\n",
       "      background-color: #434B5C;\n",
       "      box-shadow: 0px 1px 3px 1px rgba(0, 0, 0, 0.15);\n",
       "      filter: drop-shadow(0px 1px 2px rgba(0, 0, 0, 0.3));\n",
       "      fill: #FFFFFF;\n",
       "    }\n",
       "  </style>\n",
       "\n",
       "      <script>\n",
       "        const buttonEl =\n",
       "          document.querySelector('#df-c6baa545-5f21-4092-b3a6-110875a3a28f button.colab-df-convert');\n",
       "        buttonEl.style.display =\n",
       "          google.colab.kernel.accessAllowed ? 'block' : 'none';\n",
       "\n",
       "        async function convertToInteractive(key) {\n",
       "          const element = document.querySelector('#df-c6baa545-5f21-4092-b3a6-110875a3a28f');\n",
       "          const dataTable =\n",
       "            await google.colab.kernel.invokeFunction('convertToInteractive',\n",
       "                                                     [key], {});\n",
       "          if (!dataTable) return;\n",
       "\n",
       "          const docLinkHtml = 'Like what you see? Visit the ' +\n",
       "            '<a target=\"_blank\" href=https://colab.research.google.com/notebooks/data_table.ipynb>data table notebook</a>'\n",
       "            + ' to learn more about interactive tables.';\n",
       "          element.innerHTML = '';\n",
       "          dataTable['output_type'] = 'display_data';\n",
       "          await google.colab.output.renderOutput(dataTable, element);\n",
       "          const docLink = document.createElement('div');\n",
       "          docLink.innerHTML = docLinkHtml;\n",
       "          element.appendChild(docLink);\n",
       "        }\n",
       "      </script>\n",
       "    </div>\n",
       "  </div>\n",
       "  "
      ],
      "text/plain": [
       "                                 image_url_4_vector_  hasFloorplan  \\\n",
       "0  [1e-07, 1e-07, 1e-07, 1e-07, 1e-07, 1e-07, 1e-...         False   \n",
       "1  [1e-07, 1e-07, 1e-07, 1e-07, 1e-07, 1e-07, 1e-...         False   \n",
       "2  [1e-07, 1e-07, 1e-07, 1e-07, 1e-07, 1e-07, 1e-...          True   \n",
       "3  [1e-07, 1e-07, 1e-07, 1e-07, 1e-07, 1e-07, 1e-...         False   \n",
       "4  [1e-07, 1e-07, 1e-07, 1e-07, 1e-07, 1e-07, 1e-...         False   \n",
       "\n",
       "                                   image_url_vector_ listingType  \\\n",
       "0  [1e-07, 1e-07, 1e-07, 1e-07, 1e-07, 1e-07, 1e-...        Rent   \n",
       "1  [1e-07, 1e-07, 1e-07, 1e-07, 1e-07, 1e-07, 1e-...        Rent   \n",
       "2  [1e-07, 1e-07, 1e-07, 1e-07, 1e-07, 1e-07, 1e-...        Rent   \n",
       "3  [1e-07, 1e-07, 1e-07, 1e-07, 1e-07, 1e-07, 1e-...        Rent   \n",
       "4  [0.0394604466855526, 0, 5.5613274574279785, 0....        Rent   \n",
       "\n",
       "                                 image_url_2_vector_  \\\n",
       "0  [1e-07, 1e-07, 1e-07, 1e-07, 1e-07, 1e-07, 1e-...   \n",
       "1  [1e-07, 1e-07, 1e-07, 1e-07, 1e-07, 1e-07, 1e-...   \n",
       "2  [1e-07, 1e-07, 1e-07, 1e-07, 1e-07, 1e-07, 1e-...   \n",
       "3  [1e-07, 1e-07, 1e-07, 1e-07, 1e-07, 1e-07, 1e-...   \n",
       "4  [0.24612084031105042, 0.347802996635437, 0.574...   \n",
       "\n",
       "                                         image_url_2  \\\n",
       "0  https://bucket-api.domain.com.au/v1/bucket/ima...   \n",
       "1  https://bucket-api.domain.com.au/v1/bucket/ima...   \n",
       "2  https://bucket-api.domain.com.au/v1/bucket/ima...   \n",
       "3  https://bucket-api.domain.com.au/v1/bucket/ima...   \n",
       "4  https://bucket-api.domain.com.au/v1/bucket/ima...   \n",
       "\n",
       "                                     propertyDetails  \\\n",
       "0  {'area': 'Eastern Suburbs', 'carspaces': 2, 's...   \n",
       "1  {'area': 'Eastern Suburbs', 'streetNumber': '2...   \n",
       "2  {'area': 'Eastern Suburbs', 'streetNumber': '1...   \n",
       "3  {'area': 'Inner West', 'streetNumber': '13', '...   \n",
       "4  {'area': 'St George', 'carspaces': 1, 'streetN...   \n",
       "\n",
       "                                         listingSlug        id  \\\n",
       "0        407-39-kent-street-mascot-nsw-2020-14806988  14806988   \n",
       "1  2-256-new-south-head-double-bay-nsw-2028-14816127  14816127   \n",
       "2  19-11-21-flinders-street-surry-hills-nsw-2010-...  14842628   \n",
       "3          13-formosa-st-drummoyne-nsw-2047-14828984  14828984   \n",
       "4  103-11-17-woodville-street-hurstville-nsw-2220...  14741619   \n",
       "\n",
       "                                       headline  ...  \\\n",
       "0       Stunning & Modern Two Bedroom Apartment  ...   \n",
       "1  Two Bedrooms Apartments just newly renovated  ...   \n",
       "2        Iconic lifestyle pad in Urbis building  ...   \n",
       "3                         Heritage Semi to rent  ...   \n",
       "4            UNIQUE APARTMENT IN PRIME LOCATION  ...   \n",
       "\n",
       "                            image_url_5_clip_vector_ image_url_2_label  \\\n",
       "0  [-0.4681514799594879, 0.08181382715702057, 0.1...          hoosegow   \n",
       "1  [-0.4457785189151764, 0.14002937078475952, -0....          viewings   \n",
       "2  [-0.06582163274288177, 0.10252979397773743, 0....      appartements   \n",
       "3  [-0.334237277507782, 0.140365868806839, -0.236...           kitchen   \n",
       "4  [-0.3391430079936981, 0.024984989315271378, -0...           kitchen   \n",
       "\n",
       "  image_url_4_label                           image_url_2_clip_vector_  \\\n",
       "0         clubrooms  [-0.4723101556301117, 0.012517078779637814, -0...   \n",
       "1           mudroom  [-0.37797173857688904, 0.04217493161559105, -0...   \n",
       "2        backsplash  [0.060137778520584106, 0.31164053082466125, 0....   \n",
       "3          entryway  [-0.32477402687072754, 0.4767194986343384, 0.1...   \n",
       "4           sideman  [-0.3949810862541199, 0.3241899311542511, -0.1...   \n",
       "\n",
       "                            image_url_4_clip_vector_ image_url_5_label  \\\n",
       "0  [-0.6319758296012878, 0.1783788651227951, 0.13...          mudrooms   \n",
       "1  [-0.6865466833114624, 0.19351454079151154, 0.1...           mudroom   \n",
       "2  [-0.20558945834636688, 0.6132649183273315, 0.0...         serigraph   \n",
       "3  [0.12064582854509354, 0.3271999657154083, -0.2...      appartements   \n",
       "4  [1e-07, 1e-07, 1e-07, 1e-07, 1e-07, 1e-07, 1e-...           vitrine   \n",
       "\n",
       "                              image_url_clip_vector_ image_url_label  \\\n",
       "0  [-0.37417566776275635, 0.05725931376218796, -0...       showrooms   \n",
       "1  [-0.5267254114151001, 0.22717250883579254, -0....    appartements   \n",
       "2  [-0.2266240119934082, 0.3205014765262604, 0.19...    appartements   \n",
       "3  [-0.11818409711122513, 0.09542372077703476, -0...             pub   \n",
       "4  [-0.28189733624458313, 0.061684366315603256, -...       cornlofts   \n",
       "\n",
       "                                           _cluster_                   _id  \n",
       "0  {'image_url_vector_': {'default': 0}, 'image_t...  -0JggHcBgSy8FC2yCzRU  \n",
       "1  {'image_url_vector_': {'default': 0}, 'image_t...  -0JggHcBgSy8FC2yCzVU  \n",
       "2  {'image_url_vector_': {'default': 0}, 'image_t...  -0JggHcBgSy8FC2ykDbk  \n",
       "3  {'image_url_vector_': {'default': 0}, 'image_t...  -0JggHcBgSy8FC2ykDfk  \n",
       "4  {'image_url_vector_': {'default': 5}, 'image_t...  -0JhgHcBgSy8FC2y9TjX  \n",
       "\n",
       "[5 rows x 34 columns]"
      ]
     },
     "execution_count": 3,
     "metadata": {},
     "output_type": "execute_result"
    }
   ],
   "source": [
    "import pandas as pd\n",
    "from relevanceai.utils.datasets import get_realestate_dataset\n",
    "\n",
    "# Retrieve our sample dataset. - This comes in the form of a list of documents.\n",
    "documents = get_realestate_dataset()\n",
    "\n",
    "# ToDo: Remove this cell when the dataset is updated\n",
    "\n",
    "for d in documents:\n",
    "    if \"_clusters_\" in d:\n",
    "        del d[\"_clusters_\"]\n",
    "\n",
    "pd.DataFrame.from_dict(documents).head()"
   ]
  },
  {
   "cell_type": "code",
   "execution_count": null,
   "metadata": {
    "colab": {
     "base_uri": "https://localhost:8080/"
    },
    "id": "hztjQZUS5Hra",
    "outputId": "5b3b5897-bf09-44c3-e6a9-2b2703cb6704"
   },
   "outputs": [
    {
     "name": "stdout",
     "output_type": "stream",
     "text": [
      "while inserting, you can visit your dashboard at https://cloud.relevance.ai/dataset/quickstart_aggregation/dashboard/monitor/\n",
      "✅ All documents inserted/edited successfully.\n"
     ]
    }
   ],
   "source": [
    "ds = client.Dataset(\"quickstart_aggregation\")\n",
    "ds.insert_documents(documents)"
   ]
  },
  {
   "cell_type": "markdown",
   "metadata": {
    "id": "kGuTE3Rk9YI8"
   },
   "source": [
    "# 1. Grouping the Data"
   ]
  },
  {
   "cell_type": "markdown",
   "metadata": {
    "id": "BZTY4KZ7EX4_"
   },
   "source": [
    "In general, the group-by field is structured as\n",
    "```\n",
    "{\"name\": ALIAS, \n",
    "\"field\": FIELD, \n",
    "\"agg\": TYPE-OF-GROUP}\n",
    "```\n",
    "\n"
   ]
  },
  {
   "cell_type": "markdown",
   "metadata": {
    "id": "nPlHgX18OjVi"
   },
   "source": [
    "## Categorical Data"
   ]
  },
  {
   "cell_type": "code",
   "execution_count": null,
   "metadata": {
    "id": "vJKVhcOV8JeZ"
   },
   "outputs": [],
   "source": [
    "location_group = {\n",
    "    \"name\": \"location\",\n",
    "    \"field\": \"propertyDetails.area\",\n",
    "    \"agg\": \"category\",\n",
    "}"
   ]
  },
  {
   "cell_type": "markdown",
   "metadata": {
    "id": "PaNstgVnOl8H"
   },
   "source": [
    "## Numerical Data"
   ]
  },
  {
   "cell_type": "code",
   "execution_count": null,
   "metadata": {
    "id": "7XhTrGH6OpWl"
   },
   "outputs": [],
   "source": [
    "bedrooms_group = {\n",
    "    \"name\": \"bedrooms\",\n",
    "    \"field\": \"propertyDetails.bedrooms\",\n",
    "    \"agg\": \"numeric\",\n",
    "}"
   ]
  },
  {
   "cell_type": "markdown",
   "metadata": {
    "id": "QgXZkJzFOqeY"
   },
   "source": [
    "## Putting it Together"
   ]
  },
  {
   "cell_type": "code",
   "execution_count": null,
   "metadata": {
    "id": "WaGnjfBzOsBn"
   },
   "outputs": [],
   "source": [
    "groupby = [location_group, bedrooms_group]"
   ]
  },
  {
   "cell_type": "markdown",
   "metadata": {
    "id": "Ll2xh65T9Z5C"
   },
   "source": [
    "# 2. Creating Aggregation Metrics"
   ]
  },
  {
   "cell_type": "markdown",
   "metadata": {
    "id": "sHmAVTQsEuvf"
   },
   "source": [
    "In general, the aggregation field is structured as\n",
    "\n",
    "```\n",
    "{\"name\": ALIAS, \n",
    "\"field\": FIELD, \n",
    "\"agg\": TYPE-OF-AGG}\n",
    "```\n",
    "\n"
   ]
  },
  {
   "cell_type": "markdown",
   "metadata": {
    "id": "rcuIVx5jOtmi"
   },
   "source": [
    "## Average, Minimum and Maximum"
   ]
  },
  {
   "cell_type": "code",
   "execution_count": null,
   "metadata": {
    "id": "jvK6PTNZ8-V4"
   },
   "outputs": [],
   "source": [
    "avg_price_metric = {\"name\": \"avg_price\", \"field\": \"priceDetails.price\", \"agg\": \"avg\"}\n",
    "max_price_metric = {\"name\": \"max_price\", \"field\": \"priceDetails.price\", \"agg\": \"max\"}\n",
    "min_price_metric = {\"name\": \"min_price\", \"field\": \"priceDetails.price\", \"agg\": \"min\"}"
   ]
  },
  {
   "cell_type": "markdown",
   "metadata": {
    "id": "mwDxL64sOzt9"
   },
   "source": [
    "## Sum"
   ]
  },
  {
   "cell_type": "code",
   "execution_count": null,
   "metadata": {
    "id": "9nUZjG96O06N"
   },
   "outputs": [],
   "source": [
    "sum_bathroom_metric = {\n",
    "    \"name\": \"bathroom_sum\",\n",
    "    \"field\": \"propertyDetails.bathrooms\",\n",
    "    \"agg\": \"sum\",\n",
    "}"
   ]
  },
  {
   "cell_type": "markdown",
   "metadata": {
    "id": "DyYM29XNO6HA"
   },
   "source": [
    "## Putting it Together"
   ]
  },
  {
   "cell_type": "code",
   "execution_count": null,
   "metadata": {
    "id": "A9EBccf4O7LS"
   },
   "outputs": [],
   "source": [
    "metrics = [avg_price_metric, max_price_metric, min_price_metric, sum_bathroom_metric]"
   ]
  },
  {
   "cell_type": "markdown",
   "metadata": {
    "id": "3uxRUm4K9cn8"
   },
   "source": [
    "# 3. Combining Grouping and Aggregating"
   ]
  },
  {
   "cell_type": "code",
   "execution_count": null,
   "metadata": {
    "id": "c0eDVC_tPH9L"
   },
   "outputs": [],
   "source": [
    "results = ds.aggregate(metrics=metrics, groupby=groupby)"
   ]
  },
  {
   "cell_type": "code",
   "execution_count": null,
   "metadata": {
    "colab": {
     "base_uri": "https://localhost:8080/",
     "height": 896
    },
    "id": "ieDZ7egMPerW",
    "outputId": "bef9d8ee-4394-4834-838b-710250c72a24"
   },
   "outputs": [
    {
     "data": {
      "text/html": [
       "<table border=\"1\" class=\"dataframe\">\n",
       "  <thead>\n",
       "    <tr style=\"text-align: right;\">\n",
       "      <th></th>\n",
       "      <th>frequency</th>\n",
       "      <th>location</th>\n",
       "      <th>bedrooms</th>\n",
       "      <th>avg_price</th>\n",
       "      <th>max_price</th>\n",
       "      <th>min_price</th>\n",
       "      <th>bathroom_sum</th>\n",
       "    </tr>\n",
       "  </thead>\n",
       "  <tbody>\n",
       "    <tr>\n",
       "      <th>0</th>\n",
       "      <td>10</td>\n",
       "      <td>Eastern Suburbs</td>\n",
       "      <td>2</td>\n",
       "      <td>670.000000</td>\n",
       "      <td>780.0</td>\n",
       "      <td>580.0</td>\n",
       "      <td>17</td>\n",
       "    </tr>\n",
       "    <tr>\n",
       "      <th>1</th>\n",
       "      <td>8</td>\n",
       "      <td>Eastern Suburbs</td>\n",
       "      <td>1</td>\n",
       "      <td>554.000000</td>\n",
       "      <td>670.0</td>\n",
       "      <td>450.0</td>\n",
       "      <td>8</td>\n",
       "    </tr>\n",
       "    <tr>\n",
       "      <th>2</th>\n",
       "      <td>3</td>\n",
       "      <td>Eastern Suburbs</td>\n",
       "      <td>3</td>\n",
       "      <td>850.000000</td>\n",
       "      <td>900.0</td>\n",
       "      <td>800.0</td>\n",
       "      <td>5</td>\n",
       "    </tr>\n",
       "    <tr>\n",
       "      <th>3</th>\n",
       "      <td>9</td>\n",
       "      <td>North Shore - Lower</td>\n",
       "      <td>1</td>\n",
       "      <td>516.666667</td>\n",
       "      <td>600.0</td>\n",
       "      <td>450.0</td>\n",
       "      <td>9</td>\n",
       "    </tr>\n",
       "    <tr>\n",
       "      <th>4</th>\n",
       "      <td>7</td>\n",
       "      <td>North Shore - Lower</td>\n",
       "      <td>2</td>\n",
       "      <td>525.000000</td>\n",
       "      <td>525.0</td>\n",
       "      <td>525.0</td>\n",
       "      <td>9</td>\n",
       "    </tr>\n",
       "    <tr>\n",
       "      <th>5</th>\n",
       "      <td>2</td>\n",
       "      <td>North Shore - Lower</td>\n",
       "      <td>3</td>\n",
       "      <td>900.000000</td>\n",
       "      <td>900.0</td>\n",
       "      <td>900.0</td>\n",
       "      <td>4</td>\n",
       "    </tr>\n",
       "    <tr>\n",
       "      <th>6</th>\n",
       "      <td>8</td>\n",
       "      <td>Inner West</td>\n",
       "      <td>2</td>\n",
       "      <td>447.500000</td>\n",
       "      <td>495.0</td>\n",
       "      <td>400.0</td>\n",
       "      <td>11</td>\n",
       "    </tr>\n",
       "    <tr>\n",
       "      <th>7</th>\n",
       "      <td>4</td>\n",
       "      <td>Inner West</td>\n",
       "      <td>1</td>\n",
       "      <td>NaN</td>\n",
       "      <td>NaN</td>\n",
       "      <td>NaN</td>\n",
       "      <td>4</td>\n",
       "    </tr>\n",
       "    <tr>\n",
       "      <th>8</th>\n",
       "      <td>3</td>\n",
       "      <td>Inner West</td>\n",
       "      <td>3</td>\n",
       "      <td>1070.000000</td>\n",
       "      <td>1070.0</td>\n",
       "      <td>1070.0</td>\n",
       "      <td>7</td>\n",
       "    </tr>\n",
       "    <tr>\n",
       "      <th>9</th>\n",
       "      <td>1</td>\n",
       "      <td>Inner West</td>\n",
       "      <td>4</td>\n",
       "      <td>NaN</td>\n",
       "      <td>NaN</td>\n",
       "      <td>NaN</td>\n",
       "      <td>1</td>\n",
       "    </tr>\n",
       "    <tr>\n",
       "      <th>10</th>\n",
       "      <td>5</td>\n",
       "      <td>Northern Suburbs</td>\n",
       "      <td>1</td>\n",
       "      <td>460.000000</td>\n",
       "      <td>500.0</td>\n",
       "      <td>420.0</td>\n",
       "      <td>5</td>\n",
       "    </tr>\n",
       "    <tr>\n",
       "      <th>11</th>\n",
       "      <td>5</td>\n",
       "      <td>Northern Suburbs</td>\n",
       "      <td>2</td>\n",
       "      <td>NaN</td>\n",
       "      <td>NaN</td>\n",
       "      <td>NaN</td>\n",
       "      <td>8</td>\n",
       "    </tr>\n",
       "    <tr>\n",
       "      <th>12</th>\n",
       "      <td>3</td>\n",
       "      <td>Northern Suburbs</td>\n",
       "      <td>3</td>\n",
       "      <td>620.000000</td>\n",
       "      <td>680.0</td>\n",
       "      <td>560.0</td>\n",
       "      <td>6</td>\n",
       "    </tr>\n",
       "    <tr>\n",
       "      <th>13</th>\n",
       "      <td>1</td>\n",
       "      <td>Northern Suburbs</td>\n",
       "      <td>4</td>\n",
       "      <td>NaN</td>\n",
       "      <td>NaN</td>\n",
       "      <td>NaN</td>\n",
       "      <td>1</td>\n",
       "    </tr>\n",
       "    <tr>\n",
       "      <th>14</th>\n",
       "      <td>4</td>\n",
       "      <td>St George</td>\n",
       "      <td>2</td>\n",
       "      <td>370.000000</td>\n",
       "      <td>370.0</td>\n",
       "      <td>370.0</td>\n",
       "      <td>5</td>\n",
       "    </tr>\n",
       "    <tr>\n",
       "      <th>15</th>\n",
       "      <td>2</td>\n",
       "      <td>St George</td>\n",
       "      <td>1</td>\n",
       "      <td>340.000000</td>\n",
       "      <td>350.0</td>\n",
       "      <td>330.0</td>\n",
       "      <td>2</td>\n",
       "    </tr>\n",
       "    <tr>\n",
       "      <th>16</th>\n",
       "      <td>2</td>\n",
       "      <td>St George</td>\n",
       "      <td>3</td>\n",
       "      <td>640.000000</td>\n",
       "      <td>700.0</td>\n",
       "      <td>580.0</td>\n",
       "      <td>4</td>\n",
       "    </tr>\n",
       "    <tr>\n",
       "      <th>17</th>\n",
       "      <td>2</td>\n",
       "      <td>St George</td>\n",
       "      <td>4</td>\n",
       "      <td>700.000000</td>\n",
       "      <td>700.0</td>\n",
       "      <td>700.0</td>\n",
       "      <td>4</td>\n",
       "    </tr>\n",
       "    <tr>\n",
       "      <th>18</th>\n",
       "      <td>4</td>\n",
       "      <td>Sydney City</td>\n",
       "      <td>2</td>\n",
       "      <td>NaN</td>\n",
       "      <td>NaN</td>\n",
       "      <td>NaN</td>\n",
       "      <td>6</td>\n",
       "    </tr>\n",
       "    <tr>\n",
       "      <th>19</th>\n",
       "      <td>3</td>\n",
       "      <td>Sydney City</td>\n",
       "      <td>1</td>\n",
       "      <td>NaN</td>\n",
       "      <td>NaN</td>\n",
       "      <td>NaN</td>\n",
       "      <td>3</td>\n",
       "    </tr>\n",
       "    <tr>\n",
       "      <th>20</th>\n",
       "      <td>1</td>\n",
       "      <td>Sydney City</td>\n",
       "      <td>3</td>\n",
       "      <td>NaN</td>\n",
       "      <td>NaN</td>\n",
       "      <td>NaN</td>\n",
       "      <td>2</td>\n",
       "    </tr>\n",
       "    <tr>\n",
       "      <th>21</th>\n",
       "      <td>3</td>\n",
       "      <td>Parramatta</td>\n",
       "      <td>2</td>\n",
       "      <td>450.000000</td>\n",
       "      <td>450.0</td>\n",
       "      <td>450.0</td>\n",
       "      <td>5</td>\n",
       "    </tr>\n",
       "    <tr>\n",
       "      <th>22</th>\n",
       "      <td>1</td>\n",
       "      <td>Parramatta</td>\n",
       "      <td>1</td>\n",
       "      <td>430.000000</td>\n",
       "      <td>430.0</td>\n",
       "      <td>430.0</td>\n",
       "      <td>1</td>\n",
       "    </tr>\n",
       "    <tr>\n",
       "      <th>23</th>\n",
       "      <td>3</td>\n",
       "      <td>Canterbury/Bankstown</td>\n",
       "      <td>2</td>\n",
       "      <td>300.000000</td>\n",
       "      <td>300.0</td>\n",
       "      <td>300.0</td>\n",
       "      <td>3</td>\n",
       "    </tr>\n",
       "    <tr>\n",
       "      <th>24</th>\n",
       "      <td>1</td>\n",
       "      <td>Hills</td>\n",
       "      <td>4</td>\n",
       "      <td>NaN</td>\n",
       "      <td>NaN</td>\n",
       "      <td>NaN</td>\n",
       "      <td>2</td>\n",
       "    </tr>\n",
       "    <tr>\n",
       "      <th>25</th>\n",
       "      <td>1</td>\n",
       "      <td>Northern Beaches</td>\n",
       "      <td>3</td>\n",
       "      <td>NaN</td>\n",
       "      <td>NaN</td>\n",
       "      <td>NaN</td>\n",
       "      <td>2</td>\n",
       "    </tr>\n",
       "    <tr>\n",
       "      <th>26</th>\n",
       "      <td>1</td>\n",
       "      <td>Western Sydney</td>\n",
       "      <td>2</td>\n",
       "      <td>NaN</td>\n",
       "      <td>NaN</td>\n",
       "      <td>NaN</td>\n",
       "      <td>2</td>\n",
       "    </tr>\n",
       "  </tbody>\n",
       "</table>"
      ],
      "text/plain": [
       "<IPython.core.display.HTML object>"
      ]
     },
     "execution_count": 12,
     "metadata": {},
     "output_type": "execute_result"
    }
   ],
   "source": [
    "from jsonshower import show_json\n",
    "\n",
    "show_json(results, text_fields=list(results[\"results\"][0].keys()))"
   ]
  }
 ],
 "metadata": {
  "colab": {
   "collapsed_sections": [],
   "name": "🏘️ Aggregation QuickStart",
   "provenance": []
  },
  "kernelspec": {
   "display_name": "Python 3",
   "name": "python3"
  },
  "language_info": {
   "name": "python"
  }
 },
 "nbformat": 4,
 "nbformat_minor": 0
}
