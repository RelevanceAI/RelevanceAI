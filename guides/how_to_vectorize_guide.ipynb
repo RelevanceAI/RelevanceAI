{
 "cells": [
  {
   "cell_type": "markdown",
   "metadata": {
    "id": "2fchptpo9hl9"
   },
   "source": [
    "# ⚡ How To Use Custom Vectorizers\n",
    "\n"
   ]
  },
  {
   "cell_type": "markdown",
   "metadata": {},
   "source": [
    "\n",
    "[![Open In Colab](https://colab.research.google.com/assets/colab-badge.svg)](https://colab.research.google.com/github/RelevanceAI/RelevanceAI-readme-docs/blob/v2.0.0/docs/general-features/how-to-vectorize/_notebooks/RelevanceAI_ReadMe_How_to_Vectorize.ipynb)\n",
    "\n",
    "## Installation\n",
    "\n",
    "You can install the Relevance AI using \n",
    "\n",
    "```\n",
    "pip install -q RelevanceAI\n",
    "```"
   ]
  },
  {
   "cell_type": "markdown",
   "metadata": {},
   "source": [
    "### Encoding an entire dataset\n",
    "\n",
    "\n",
    "The easiest way to update an existing dataset with encoding results is to run `encode_documents`. This function fetches all the data-points in a dataset, runs the specified function (i.e. encoding in this case) and writes the result back to the dataset.\n",
    "\n",
    "For instance, in the sample code below, we use a dataset called `ecommerce_dataset`, and encodes the `product_description` field using the `USE2Vec` encoder.\n",
    "You can see the list of the available list of models for vectorising here using [Vectorhub](https://github.com/RelevanceAI/vectorhub) or feel free to bring your own model(s)."
   ]
  },
  {
   "cell_type": "code",
   "execution_count": null,
   "metadata": {
    "id": "XtAf7b1BjjmP",
    "scrolled": true
   },
   "outputs": [],
   "source": [
    "from relevanceai import Client\n",
    "\n",
    "\"\"\"\n",
    "You can sign up/login and find your credentials here: https://cloud.relevance.ai/sdk/api\n",
    "Once you have signed up, click on the value under `Activation token` and paste it here\n",
    "\"\"\"\n",
    "client = Client()"
   ]
  },
  {
   "cell_type": "code",
   "execution_count": null,
   "metadata": {},
   "outputs": [],
   "source": [
    "from relevanceai.utils import get_ecommerce_1_dataset\n",
    "\n",
    "dataset_id = \"ecommerce-2\"\n",
    "documents = get_ecommerce_1_dataset(number_of_documents=100)"
   ]
  },
  {
   "cell_type": "code",
   "execution_count": null,
   "metadata": {},
   "outputs": [],
   "source": [
    "ds = client.Dataset(dataset_id)\n",
    "ds.delete()\n",
    "ds.insert_documents(documents, create_id=True)"
   ]
  },
  {
   "cell_type": "code",
   "execution_count": null,
   "metadata": {
    "scrolled": true
   },
   "outputs": [],
   "source": [
    "ds.vectorize_text(\n",
    "    models=[\"princeton-nlp/sup-simcse-roberta-large\"], fields=[\"product_text\"]\n",
    ")"
   ]
  }
 ],
 "metadata": {
  "colab": {
   "collapsed_sections": [],
   "name": "RelevanceAI-ReadMe-How-To-Vectorize.ipynb",
   "provenance": []
  },
  "kernelspec": {
   "display_name": "Python 3 (ipykernel)",
   "language": "python",
   "name": "python3"
  },
  "language_info": {
   "codemirror_mode": {
    "name": "ipython",
    "version": 3
   },
   "file_extension": ".py",
   "mimetype": "text/x-python",
   "name": "python",
   "nbconvert_exporter": "python",
   "pygments_lexer": "ipython3",
   "version": "3.8.9"
  }
 },
 "nbformat": 4,
 "nbformat_minor": 1
}
