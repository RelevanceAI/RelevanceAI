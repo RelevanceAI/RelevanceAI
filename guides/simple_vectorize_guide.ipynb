{
 "cells": [
  {
   "cell_type": "markdown",
   "metadata": {},
   "source": [
    "# 😊🔢 Simple Vectorizing Guide"
   ]
  },
  {
   "cell_type": "markdown",
   "metadata": {},
   "source": [
    "This notebook will be a beginners guide to getting start with vectorized unstructured data with RelevanceAI"
   ]
  },
  {
   "cell_type": "markdown",
   "metadata": {},
   "source": [
    "Firstly, we must import what we need from Relevance AI"
   ]
  },
  {
   "cell_type": "code",
   "execution_count": null,
   "metadata": {},
   "outputs": [],
   "source": [
    "from relevanceai import Client\n",
    "from relevanceai.utils.datasets import (\n",
    "    get_online_ecommerce_dataset,\n",
    ")"
   ]
  },
  {
   "cell_type": "markdown",
   "metadata": {},
   "source": [
    "### Prerequisites\n",
    "\n",
    "This tutorial assumes that you have instantiaed the RelevanceAI python SDK client and are working with the provided `online_ecommerce_dataset`"
   ]
  },
  {
   "cell_type": "code",
   "execution_count": null,
   "metadata": {},
   "outputs": [],
   "source": [
    "client = Client()\n",
    "\n",
    "dataset = client.Dataset(\"ecommerce\")\n",
    "\n",
    "documents = get_online_ecommerce_dataset()\n",
    "\n",
    "dataset.insert_documents(documents, create_id=True)"
   ]
  },
  {
   "cell_type": "markdown",
   "metadata": {},
   "source": [
    "## Vectorize with One Line of Code\n",
    "\n",
    "In the `online_ecommerce_dataset`, there are a few text fields; namely `product_title` and `product_description`. To vectorize with the default text model (`all-MiniLM-L6-v2`), simply run the code below:"
   ]
  },
  {
   "cell_type": "code",
   "execution_count": null,
   "metadata": {},
   "outputs": [],
   "source": [
    "dataset.vectorize_text(fields=[\"product_title\", \"product_description\"])"
   ]
  },
  {
   "cell_type": "markdown",
   "metadata": {},
   "source": [
    "Also in `online_ecommerce_dataset` is an image field called `product_image`. To vectorize with the default image model (`clip`), simply run the code below:"
   ]
  },
  {
   "cell_type": "code",
   "execution_count": null,
   "metadata": {},
   "outputs": [],
   "source": [
    "dataset.vectorize_image(fields=[\"product_image\"])"
   ]
  },
  {
   "cell_type": "markdown",
   "metadata": {},
   "source": [
    "## HuggingFace Transformers Integration\n",
    "\n",
    "Our vectorize functions come with built in integrations with most models from hugging face. Simply specify the model string from the hugging face model page and run the code below as such.\n",
    "\n",
    "Say I wanted to use `bert-base-uncased` instead of the default..."
   ]
  },
  {
   "cell_type": "code",
   "execution_count": null,
   "metadata": {},
   "outputs": [],
   "source": [
    "dataset.vectorize_text(\n",
    "    fields=[\"product_title\"], models=[\"bert-base-uncased\"]\n",
    ")  # creates one new vector\n",
    "\n",
    "dataset.vectorize_text(\n",
    "    fields=[\"product_title\"], models=[\"bert-base-uncased\", \"all-MiniLM-L6-v2\"]\n",
    ")  # creates two new vectors"
   ]
  },
  {
   "cell_type": "markdown",
   "metadata": {},
   "source": [
    "The above also applies to vectorizing images"
   ]
  },
  {
   "cell_type": "markdown",
   "metadata": {},
   "source": [
    "## How to bring your own Vectorizer\n",
    "\n",
    "RelevanceAI also supports the bringing your own custom vectorizers. Simply import the base model class and write your own logic around it"
   ]
  },
  {
   "cell_type": "code",
   "execution_count": null,
   "metadata": {},
   "outputs": [],
   "source": [
    "import random\n",
    "\n",
    "from relevanceai.operations_new.vectorize.ops import VectorizeOps\n",
    "\n",
    "\n",
    "class CustomVectorizeOps(VectorizeOps):\n",
    "    def __init__(self, field):\n",
    "        super().__init__()\n",
    "\n",
    "        self.field = field\n",
    "\n",
    "        self.vector_length = 64\n",
    "        self.model = lambda field: [random.random() for _ in range(self.vector_length)]\n",
    "\n",
    "    @property\n",
    "    def vector_name(self):\n",
    "        return \"custom_vector_\"\n",
    "\n",
    "    def transform(self, documents):\n",
    "\n",
    "        for document in documents:\n",
    "            vector = self.model(document[self.field])\n",
    "            document[self.vector_name] = vector\n",
    "\n",
    "        return documents\n",
    "\n",
    "\n",
    "custom_field = \"sample_text_field\"\n",
    "ops = CustomVectorizeOps(custom_field)\n",
    "\n",
    "chunksize = 20  # You can increase this value depending on how computationally expensive your vectorizer is\n",
    "ops.run(\n",
    "    dataset,\n",
    "    batched=True,\n",
    "    chunksize=chunksize,\n",
    ")"
   ]
  }
 ],
 "metadata": {
  "language_info": {
   "name": "python"
  },
  "orig_nbformat": 4
 },
 "nbformat": 4,
 "nbformat_minor": 2
}
