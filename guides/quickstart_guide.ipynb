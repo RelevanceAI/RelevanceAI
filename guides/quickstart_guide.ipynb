{
 "cells": [
  {
   "cell_type": "markdown",
   "metadata": {
    "id": "H2qgv-tuKlIp"
   },
   "source": [
    "# 🏃‍♀️ Quickstart"
   ]
  },
  {
   "cell_type": "markdown",
   "metadata": {},
   "source": [
    "Use [Relevance AI](https://cloud.relevance.ai/) for clustering and gaining meaning from your unstructured data."
   ]
  },
  {
   "cell_type": "markdown",
   "metadata": {
    "id": "Zc9VEsRwKlIp"
   },
   "source": [
    "## ✨ Example\n",
    "\n",
    "An example cluster app that showcases meaning amongst each group of unstructured data \n",
    "With just a few lines of code,\n",
    "you'll get rich, interactive, shareable dashboards [which you can see yourself here](https://i.gyazo.com/55a026bfe8e3becf06e7fceed4e146f2.png).\n",
    "![](https://i.gyazo.com/55a026bfe8e3becf06e7fceed4e146f2.png) "
   ]
  },
  {
   "cell_type": "markdown",
   "metadata": {
    "id": "aQAcOUAAKlIq"
   },
   "source": [
    "\n",
    "### 🔒 Data & Privacy\n",
    "\n",
    "We take security very seriously, and our cloud-hosted dashboard uses industry standard best practices for encryption. Our team adhere to our [strict privacy policy](https://relevance.ai/data-security-policy/).\n",
    "\n",
    "---"
   ]
  },
  {
   "cell_type": "markdown",
   "metadata": {
    "id": "FOrvGTECKlIq"
   },
   "source": [
    "### 🪄 Install `RelevanceAI` library and authenticate the client\n",
    "\n",
    "Start by installing the library and logging in to your account."
   ]
  },
  {
   "cell_type": "code",
   "execution_count": null,
   "metadata": {
    "colab": {
     "base_uri": "https://localhost:8080/"
    },
    "id": "wjRgB4HtKlIr",
    "outputId": "b04b0f9c-d1d2-4d9d-b4fb-7dbc8f121846"
   },
   "outputs": [],
   "source": [
    "!pip install RelevanceAI -qqq"
   ]
  },
  {
   "cell_type": "code",
   "execution_count": 1,
   "metadata": {
    "colab": {
     "base_uri": "https://localhost:8080/"
    },
    "id": "HMFHYIruKlIs",
    "outputId": "6b25bf75-efdb-4a44-f4ea-5be2905e83b8"
   },
   "outputs": [
    {
     "name": "stdout",
     "output_type": "stream",
     "text": [
      "Activation token (you can find it here: https://cloud.relevance.ai/sdk/api )\n",
      "\n",
      "Connecting to ap-southeast-2...\n",
      "You can view all your datasets at https://cloud.relevance.ai/datasets/\n",
      "Welcome to RelevanceAI. Logged in as fc103ba5498da02f86a3.\n"
     ]
    }
   ],
   "source": [
    "from relevanceai import Client\n",
    "\n",
    "# Instantiate the client and authenticate\n",
    "client = Client()\n",
    "\n",
    "# This will prompt a link to collect your API token which includes your project and API key"
   ]
  },
  {
   "cell_type": "markdown",
   "metadata": {
    "id": "jOpyC6pxKlIs"
   },
   "source": [
    "### 📩 Upload Some Data\n",
    "1️⃣. Open a new **Dataset**\n",
    "\n",
    "2️⃣. **Insert** some documents"
   ]
  },
  {
   "cell_type": "code",
   "execution_count": 2,
   "metadata": {
    "id": "s9OuYV0-KlIt"
   },
   "outputs": [],
   "source": [
    "dataset_id = \"retail_reviews\"  # The dataset name that we have decided, this can be whatever you want for your own data\n",
    "dataset = client.Dataset(dataset_id=dataset_id)  # Instantiate the dataset"
   ]
  },
  {
   "cell_type": "code",
   "execution_count": 3,
   "metadata": {
    "colab": {
     "base_uri": "https://localhost:8080/",
     "height": 182
    },
    "id": "Hm_oSK-5i5g2",
    "outputId": "a0b60c39-af87-4de0-e080-92905bc1469d"
   },
   "outputs": [
    {
     "data": {
      "application/vnd.jupyter.widget-view+json": {
       "model_id": "b1caa429bbd74802bd7d08f0ce79a026",
       "version_major": 2,
       "version_minor": 0
      },
      "text/plain": [
       "  0%|          | 0/5 [00:00<?, ?it/s]"
      ]
     },
     "metadata": {},
     "output_type": "display_data"
    },
    {
     "name": "stdout",
     "output_type": "stream",
     "text": [
      "while inserting, you can visit your dashboard at https://cloud.relevance.ai/dataset/retail_reviews/dashboard/monitor/\n",
      "✅ All documents inserted/edited successfully.\n"
     ]
    }
   ],
   "source": [
    "from relevanceai.utils.datasets import ExampleDatasets\n",
    "\n",
    "documents = ExampleDatasets._get_dummy_dataset(\"retail_reviews_small\")\n",
    "\n",
    "dataset.insert_documents(documents)"
   ]
  },
  {
   "cell_type": "markdown",
   "metadata": {
    "id": "PcJyoIctKlIu"
   },
   "source": [
    "## 👨‍🔬 Vectorizing\n",
    "\n",
    "💪 In order to better visualise clusters within our data, we must vectorise the unstructured fields in a our clusters. In this dataset, there are two important text fields, both located in the review body; These are the `reviews.text` and `reviews.title`. For the purposes of this tutorial, we will be vectorizing `reviews.text` only."
   ]
  },
  {
   "cell_type": "markdown",
   "metadata": {
    "id": "rBBEjtPWrVK1"
   },
   "source": [
    "### 🤔 Choosing a Vectorizer\n",
    "\n",
    "An important part of vectorizing text is around choosing which vectorizer to use. Relevance AI allows for a custom vectorizer from vectorhub, but if you can't decide, the default models for each type of unstructured data are listed below.\n",
    "\n",
    "- Text: `USE2Vec`\n",
    "- Images: `Clip2Vec`"
   ]
  },
  {
   "cell_type": "markdown",
   "metadata": {
    "id": "hLQAczgTz3uI"
   },
   "source": [
    "First we install the suite of vectorizers from vectorhub"
   ]
  },
  {
   "cell_type": "code",
   "execution_count": null,
   "metadata": {
    "id": "ZZFMVNixz1Is"
   },
   "outputs": [],
   "source": [
    "!pip install vectorhub[encoders-text-tfhub] -qqq"
   ]
  },
  {
   "cell_type": "markdown",
   "metadata": {
    "id": "qBwgMjFlKlIu"
   },
   "source": [
    "### 🤩 Vectorize in one line"
   ]
  },
  {
   "cell_type": "code",
   "execution_count": null,
   "metadata": {
    "colab": {
     "base_uri": "https://localhost:8080/",
     "height": 122,
     "referenced_widgets": [
      "f4a24e8bc8b24b0e9c6b8a1357a1361a",
      "8b0cb06d8d194377a27bca9916691121",
      "1490f2bd27d843e098d74d9107d5d74a",
      "cd023e3749c846479b143064a2bcc373",
      "8c776fa8a51545e781ce806d628899bb",
      "0705feb3d82940b1a3f8beed2b483811",
      "58989990c6f5494099d46515fbd7979f",
      "e2ea1bbf08dd44dea383ff82ef761ae4",
      "a533bb16edec47e6b5d52c78e03b1ac2",
      "410557bd0aeb4ff79f205beb3ba6edd1",
      "a729afbe776649199cbe0a9607ea309f"
     ]
    },
    "id": "vJ_vRaT1KlIv",
    "outputId": "0a6ae38a-d16c-4bfe-8335-27d6bc962d1d"
   },
   "outputs": [],
   "source": [
    "# The text fields here are the ones we wish to construct vector representations for\n",
    "text_fields = [\"reviews.text\"]\n",
    "vector_fields = dataset.vectorize(text_fields=text_fields)[\"added_vectors\"]"
   ]
  },
  {
   "cell_type": "markdown",
   "metadata": {
    "id": "ywZLHGeVtSEr"
   },
   "source": [
    "### 😎 Custom Vectorizer\n",
    "\n",
    "For this example we will encode text using `SentenceTransformers`. If following this tutorial, and you completed the above step, you can skip vectorizing with `SentenceTransformer2Vec`."
   ]
  },
  {
   "cell_type": "code",
   "execution_count": null,
   "metadata": {
    "id": "yNMlI9OntTU1"
   },
   "outputs": [],
   "source": [
    "# Other vectorizers will come from vectorhub should you wish to choose a different vectorizer\n",
    "from vectorhub.encoders.text.sentence_transformers import SentenceTransformer2Vec\n",
    "\n",
    "# For this example we will use the mpnet base\n",
    "model_name = \"all-mpnet-base-v2\"\n",
    "model = SentenceTransformer2Vec(model_name=model_name)\n",
    "\n",
    "# Same process of vectorizing as before, just add the `text_model` parameter\n",
    "text_fields = [\"reviews.text\"]\n",
    "dataset.vectorize(text_fields=text_fields, text_model=model)"
   ]
  },
  {
   "cell_type": "markdown",
   "metadata": {
    "id": "hmicpLbkKlIw"
   },
   "source": [
    "## ✨ Cluster Application\n",
    "\n",
    "In one line of code, we can create a cluster application based on our new vector field. This application is how we will discover insights about the semantic groups in our data."
   ]
  },
  {
   "cell_type": "markdown",
   "metadata": {
    "id": "pQ6Q1KxgQB2h"
   },
   "source": [
    "### 🤔 Choosing the Number of Clusters\n",
    "\n",
    "Most clustering algorithms require you choose the number clusters you wish to find. This can be tricky if you don't know what the expect. Luckily, RelevanceAI uses a clustering algorithm called community detection that does not require the number of clusters to be set. Instead, the algorithm will decide how many is right for you. To discover more about other clustering methods, [read here](https://relevanceai.readthedocs.io/en/latest/relevanceai.cluster_report.html)"
   ]
  },
  {
   "cell_type": "code",
   "execution_count": null,
   "metadata": {
    "colab": {
     "base_uri": "https://localhost:8080/",
     "height": 158,
     "referenced_widgets": [
      "0167e38fc2684ee987ffb2c1e4e7c888",
      "a23863abcd9244628dae9c2a1bc9993e",
      "b02ee32b9f1a4b6a9cbb9d3dd3b937ff",
      "29ee73b9979742af90d1de0fb137dd4a",
      "5c13879d8f344127b64af1aa7a4f8852",
      "c30c78865c1640d7af3df2d517a402d9",
      "88c66b03f74d4072a7ca2702cde5bab1",
      "fed1fcc4a7b4411dac5ca7f03d2e2828",
      "337acdd25f4b4d658b9f08e310774379",
      "2b3e5b0d4a614498a2893f43e3fb0788",
      "280dc66a8c1a497bab17355146717d62"
     ]
    },
    "id": "mebNH7SqKlIx",
    "outputId": "799dc229-ba88-4692-b733-6d88f9ac2523"
   },
   "outputs": [],
   "source": [
    "model = \"community_detection\"\n",
    "alias = \"my_clustering\"\n",
    "\n",
    "dataset.cluster(model=model, alias=alias, vector_fields=vector_fields)"
   ]
  },
  {
   "cell_type": "markdown",
   "metadata": {
    "id": "3DGPKr071QQQ"
   },
   "source": [
    "### 🔗 The above step will produce a link to your first cluster app!\n",
    "\n",
    "Click the link provided to view your newly generated clusters in a [dashboard app](https://cloud.relevance.ai/dataset/retail_reviews/deploy/cluster/59066979f4876d91beea/QVdEaHJuOEJ5Qy1VVnVsVDhndjM6eG9HaVg2RGtTTUdWNXFFQjNhZUg0QQ/LZpGq38B8_iiYmskWDEn/us-east-1/) ![](https://i.gyazo.com/55a026bfe8e3becf06e7fceed4e146f2.png)"
   ]
  },
  {
   "cell_type": "markdown",
   "metadata": {},
   "source": [
    "\n",
    "\n",
    "Want to quickly create some example applications with Relevance AI? Check out some other guides below!\n",
    "- [Text-to-image search with OpenAI's CLIP](https://docs.relevance.ai/docs/quickstart-text-to-image-search)\n",
    "- [Hybrid Text search with Universal Sentence Encoder using Vectorhub](https://docs.relevance.ai/docs/quickstart-text-search)\n",
    "- [Text search with Universal Sentence Encoder Question Answer from Google](https://docs.relevance.ai/docs/quickstart-question-answering)"
   ]
  }
 ],
 "metadata": {
  "accelerator": "GPU",
  "colab": {
   "collapsed_sections": [],
   "name": "Intro to Relevance  AI",
   "provenance": []
  },
  "kernelspec": {
   "display_name": "Python 3 (ipykernel)",
   "language": "python",
   "name": "python3"
  },
  "language_info": {
   "codemirror_mode": {
    "name": "ipython",
    "version": 3
   },
   "file_extension": ".py",
   "mimetype": "text/x-python",
   "name": "python",
   "nbconvert_exporter": "python",
   "pygments_lexer": "ipython3",
   "version": "3.9.12"
  },
  "widgets": {
   "application/vnd.jupyter.widget-state+json": {
    "0167e38fc2684ee987ffb2c1e4e7c888": {
     "model_module": "@jupyter-widgets/controls",
     "model_module_version": "1.5.0",
     "model_name": "HBoxModel",
     "state": {
      "_dom_classes": [],
      "_model_module": "@jupyter-widgets/controls",
      "_model_module_version": "1.5.0",
      "_model_name": "HBoxModel",
      "_view_count": null,
      "_view_module": "@jupyter-widgets/controls",
      "_view_module_version": "1.5.0",
      "_view_name": "HBoxView",
      "box_style": "",
      "children": [
       "IPY_MODEL_a23863abcd9244628dae9c2a1bc9993e",
       "IPY_MODEL_b02ee32b9f1a4b6a9cbb9d3dd3b937ff",
       "IPY_MODEL_29ee73b9979742af90d1de0fb137dd4a"
      ],
      "layout": "IPY_MODEL_5c13879d8f344127b64af1aa7a4f8852"
     }
    },
    "0705feb3d82940b1a3f8beed2b483811": {
     "model_module": "@jupyter-widgets/base",
     "model_module_version": "1.2.0",
     "model_name": "LayoutModel",
     "state": {
      "_model_module": "@jupyter-widgets/base",
      "_model_module_version": "1.2.0",
      "_model_name": "LayoutModel",
      "_view_count": null,
      "_view_module": "@jupyter-widgets/base",
      "_view_module_version": "1.2.0",
      "_view_name": "LayoutView",
      "align_content": null,
      "align_items": null,
      "align_self": null,
      "border": null,
      "bottom": null,
      "display": null,
      "flex": null,
      "flex_flow": null,
      "grid_area": null,
      "grid_auto_columns": null,
      "grid_auto_flow": null,
      "grid_auto_rows": null,
      "grid_column": null,
      "grid_gap": null,
      "grid_row": null,
      "grid_template_areas": null,
      "grid_template_columns": null,
      "grid_template_rows": null,
      "height": null,
      "justify_content": null,
      "justify_items": null,
      "left": null,
      "margin": null,
      "max_height": null,
      "max_width": null,
      "min_height": null,
      "min_width": null,
      "object_fit": null,
      "object_position": null,
      "order": null,
      "overflow": null,
      "overflow_x": null,
      "overflow_y": null,
      "padding": null,
      "right": null,
      "top": null,
      "visibility": null,
      "width": null
     }
    },
    "1490f2bd27d843e098d74d9107d5d74a": {
     "model_module": "@jupyter-widgets/controls",
     "model_module_version": "1.5.0",
     "model_name": "FloatProgressModel",
     "state": {
      "_dom_classes": [],
      "_model_module": "@jupyter-widgets/controls",
      "_model_module_version": "1.5.0",
      "_model_name": "FloatProgressModel",
      "_view_count": null,
      "_view_module": "@jupyter-widgets/controls",
      "_view_module_version": "1.5.0",
      "_view_name": "ProgressView",
      "bar_style": "success",
      "description": "",
      "description_tooltip": null,
      "layout": "IPY_MODEL_e2ea1bbf08dd44dea383ff82ef761ae4",
      "max": 50,
      "min": 0,
      "orientation": "horizontal",
      "style": "IPY_MODEL_a533bb16edec47e6b5d52c78e03b1ac2",
      "value": 50
     }
    },
    "280dc66a8c1a497bab17355146717d62": {
     "model_module": "@jupyter-widgets/controls",
     "model_module_version": "1.5.0",
     "model_name": "DescriptionStyleModel",
     "state": {
      "_model_module": "@jupyter-widgets/controls",
      "_model_module_version": "1.5.0",
      "_model_name": "DescriptionStyleModel",
      "_view_count": null,
      "_view_module": "@jupyter-widgets/base",
      "_view_module_version": "1.2.0",
      "_view_name": "StyleView",
      "description_width": ""
     }
    },
    "29ee73b9979742af90d1de0fb137dd4a": {
     "model_module": "@jupyter-widgets/controls",
     "model_module_version": "1.5.0",
     "model_name": "HTMLModel",
     "state": {
      "_dom_classes": [],
      "_model_module": "@jupyter-widgets/controls",
      "_model_module_version": "1.5.0",
      "_model_name": "HTMLModel",
      "_view_count": null,
      "_view_module": "@jupyter-widgets/controls",
      "_view_module_version": "1.5.0",
      "_view_name": "HTMLView",
      "description": "",
      "description_tooltip": null,
      "layout": "IPY_MODEL_2b3e5b0d4a614498a2893f43e3fb0788",
      "placeholder": "​",
      "style": "IPY_MODEL_280dc66a8c1a497bab17355146717d62",
      "value": " 5/5 [00:12&lt;00:00,  2.45s/it]"
     }
    },
    "2b3e5b0d4a614498a2893f43e3fb0788": {
     "model_module": "@jupyter-widgets/base",
     "model_module_version": "1.2.0",
     "model_name": "LayoutModel",
     "state": {
      "_model_module": "@jupyter-widgets/base",
      "_model_module_version": "1.2.0",
      "_model_name": "LayoutModel",
      "_view_count": null,
      "_view_module": "@jupyter-widgets/base",
      "_view_module_version": "1.2.0",
      "_view_name": "LayoutView",
      "align_content": null,
      "align_items": null,
      "align_self": null,
      "border": null,
      "bottom": null,
      "display": null,
      "flex": null,
      "flex_flow": null,
      "grid_area": null,
      "grid_auto_columns": null,
      "grid_auto_flow": null,
      "grid_auto_rows": null,
      "grid_column": null,
      "grid_gap": null,
      "grid_row": null,
      "grid_template_areas": null,
      "grid_template_columns": null,
      "grid_template_rows": null,
      "height": null,
      "justify_content": null,
      "justify_items": null,
      "left": null,
      "margin": null,
      "max_height": null,
      "max_width": null,
      "min_height": null,
      "min_width": null,
      "object_fit": null,
      "object_position": null,
      "order": null,
      "overflow": null,
      "overflow_x": null,
      "overflow_y": null,
      "padding": null,
      "right": null,
      "top": null,
      "visibility": null,
      "width": null
     }
    },
    "337acdd25f4b4d658b9f08e310774379": {
     "model_module": "@jupyter-widgets/controls",
     "model_module_version": "1.5.0",
     "model_name": "ProgressStyleModel",
     "state": {
      "_model_module": "@jupyter-widgets/controls",
      "_model_module_version": "1.5.0",
      "_model_name": "ProgressStyleModel",
      "_view_count": null,
      "_view_module": "@jupyter-widgets/base",
      "_view_module_version": "1.2.0",
      "_view_name": "StyleView",
      "bar_color": null,
      "description_width": ""
     }
    },
    "410557bd0aeb4ff79f205beb3ba6edd1": {
     "model_module": "@jupyter-widgets/base",
     "model_module_version": "1.2.0",
     "model_name": "LayoutModel",
     "state": {
      "_model_module": "@jupyter-widgets/base",
      "_model_module_version": "1.2.0",
      "_model_name": "LayoutModel",
      "_view_count": null,
      "_view_module": "@jupyter-widgets/base",
      "_view_module_version": "1.2.0",
      "_view_name": "LayoutView",
      "align_content": null,
      "align_items": null,
      "align_self": null,
      "border": null,
      "bottom": null,
      "display": null,
      "flex": null,
      "flex_flow": null,
      "grid_area": null,
      "grid_auto_columns": null,
      "grid_auto_flow": null,
      "grid_auto_rows": null,
      "grid_column": null,
      "grid_gap": null,
      "grid_row": null,
      "grid_template_areas": null,
      "grid_template_columns": null,
      "grid_template_rows": null,
      "height": null,
      "justify_content": null,
      "justify_items": null,
      "left": null,
      "margin": null,
      "max_height": null,
      "max_width": null,
      "min_height": null,
      "min_width": null,
      "object_fit": null,
      "object_position": null,
      "order": null,
      "overflow": null,
      "overflow_x": null,
      "overflow_y": null,
      "padding": null,
      "right": null,
      "top": null,
      "visibility": null,
      "width": null
     }
    },
    "58989990c6f5494099d46515fbd7979f": {
     "model_module": "@jupyter-widgets/controls",
     "model_module_version": "1.5.0",
     "model_name": "DescriptionStyleModel",
     "state": {
      "_model_module": "@jupyter-widgets/controls",
      "_model_module_version": "1.5.0",
      "_model_name": "DescriptionStyleModel",
      "_view_count": null,
      "_view_module": "@jupyter-widgets/base",
      "_view_module_version": "1.2.0",
      "_view_name": "StyleView",
      "description_width": ""
     }
    },
    "5c13879d8f344127b64af1aa7a4f8852": {
     "model_module": "@jupyter-widgets/base",
     "model_module_version": "1.2.0",
     "model_name": "LayoutModel",
     "state": {
      "_model_module": "@jupyter-widgets/base",
      "_model_module_version": "1.2.0",
      "_model_name": "LayoutModel",
      "_view_count": null,
      "_view_module": "@jupyter-widgets/base",
      "_view_module_version": "1.2.0",
      "_view_name": "LayoutView",
      "align_content": null,
      "align_items": null,
      "align_self": null,
      "border": null,
      "bottom": null,
      "display": null,
      "flex": null,
      "flex_flow": null,
      "grid_area": null,
      "grid_auto_columns": null,
      "grid_auto_flow": null,
      "grid_auto_rows": null,
      "grid_column": null,
      "grid_gap": null,
      "grid_row": null,
      "grid_template_areas": null,
      "grid_template_columns": null,
      "grid_template_rows": null,
      "height": null,
      "justify_content": null,
      "justify_items": null,
      "left": null,
      "margin": null,
      "max_height": null,
      "max_width": null,
      "min_height": null,
      "min_width": null,
      "object_fit": null,
      "object_position": null,
      "order": null,
      "overflow": null,
      "overflow_x": null,
      "overflow_y": null,
      "padding": null,
      "right": null,
      "top": null,
      "visibility": null,
      "width": null
     }
    },
    "88c66b03f74d4072a7ca2702cde5bab1": {
     "model_module": "@jupyter-widgets/controls",
     "model_module_version": "1.5.0",
     "model_name": "DescriptionStyleModel",
     "state": {
      "_model_module": "@jupyter-widgets/controls",
      "_model_module_version": "1.5.0",
      "_model_name": "DescriptionStyleModel",
      "_view_count": null,
      "_view_module": "@jupyter-widgets/base",
      "_view_module_version": "1.2.0",
      "_view_name": "StyleView",
      "description_width": ""
     }
    },
    "8b0cb06d8d194377a27bca9916691121": {
     "model_module": "@jupyter-widgets/controls",
     "model_module_version": "1.5.0",
     "model_name": "HTMLModel",
     "state": {
      "_dom_classes": [],
      "_model_module": "@jupyter-widgets/controls",
      "_model_module_version": "1.5.0",
      "_model_name": "HTMLModel",
      "_view_count": null,
      "_view_module": "@jupyter-widgets/controls",
      "_view_module_version": "1.5.0",
      "_view_name": "HTMLView",
      "description": "",
      "description_tooltip": null,
      "layout": "IPY_MODEL_0705feb3d82940b1a3f8beed2b483811",
      "placeholder": "​",
      "style": "IPY_MODEL_58989990c6f5494099d46515fbd7979f",
      "value": "100%"
     }
    },
    "8c776fa8a51545e781ce806d628899bb": {
     "model_module": "@jupyter-widgets/base",
     "model_module_version": "1.2.0",
     "model_name": "LayoutModel",
     "state": {
      "_model_module": "@jupyter-widgets/base",
      "_model_module_version": "1.2.0",
      "_model_name": "LayoutModel",
      "_view_count": null,
      "_view_module": "@jupyter-widgets/base",
      "_view_module_version": "1.2.0",
      "_view_name": "LayoutView",
      "align_content": null,
      "align_items": null,
      "align_self": null,
      "border": null,
      "bottom": null,
      "display": null,
      "flex": null,
      "flex_flow": null,
      "grid_area": null,
      "grid_auto_columns": null,
      "grid_auto_flow": null,
      "grid_auto_rows": null,
      "grid_column": null,
      "grid_gap": null,
      "grid_row": null,
      "grid_template_areas": null,
      "grid_template_columns": null,
      "grid_template_rows": null,
      "height": null,
      "justify_content": null,
      "justify_items": null,
      "left": null,
      "margin": null,
      "max_height": null,
      "max_width": null,
      "min_height": null,
      "min_width": null,
      "object_fit": null,
      "object_position": null,
      "order": null,
      "overflow": null,
      "overflow_x": null,
      "overflow_y": null,
      "padding": null,
      "right": null,
      "top": null,
      "visibility": null,
      "width": null
     }
    },
    "a23863abcd9244628dae9c2a1bc9993e": {
     "model_module": "@jupyter-widgets/controls",
     "model_module_version": "1.5.0",
     "model_name": "HTMLModel",
     "state": {
      "_dom_classes": [],
      "_model_module": "@jupyter-widgets/controls",
      "_model_module_version": "1.5.0",
      "_model_name": "HTMLModel",
      "_view_count": null,
      "_view_module": "@jupyter-widgets/controls",
      "_view_module_version": "1.5.0",
      "_view_name": "HTMLView",
      "description": "",
      "description_tooltip": null,
      "layout": "IPY_MODEL_c30c78865c1640d7af3df2d517a402d9",
      "placeholder": "​",
      "style": "IPY_MODEL_88c66b03f74d4072a7ca2702cde5bab1",
      "value": "100%"
     }
    },
    "a533bb16edec47e6b5d52c78e03b1ac2": {
     "model_module": "@jupyter-widgets/controls",
     "model_module_version": "1.5.0",
     "model_name": "ProgressStyleModel",
     "state": {
      "_model_module": "@jupyter-widgets/controls",
      "_model_module_version": "1.5.0",
      "_model_name": "ProgressStyleModel",
      "_view_count": null,
      "_view_module": "@jupyter-widgets/base",
      "_view_module_version": "1.2.0",
      "_view_name": "StyleView",
      "bar_color": null,
      "description_width": ""
     }
    },
    "a729afbe776649199cbe0a9607ea309f": {
     "model_module": "@jupyter-widgets/controls",
     "model_module_version": "1.5.0",
     "model_name": "DescriptionStyleModel",
     "state": {
      "_model_module": "@jupyter-widgets/controls",
      "_model_module_version": "1.5.0",
      "_model_name": "DescriptionStyleModel",
      "_view_count": null,
      "_view_module": "@jupyter-widgets/base",
      "_view_module_version": "1.2.0",
      "_view_name": "StyleView",
      "description_width": ""
     }
    },
    "b02ee32b9f1a4b6a9cbb9d3dd3b937ff": {
     "model_module": "@jupyter-widgets/controls",
     "model_module_version": "1.5.0",
     "model_name": "FloatProgressModel",
     "state": {
      "_dom_classes": [],
      "_model_module": "@jupyter-widgets/controls",
      "_model_module_version": "1.5.0",
      "_model_name": "FloatProgressModel",
      "_view_count": null,
      "_view_module": "@jupyter-widgets/controls",
      "_view_module_version": "1.5.0",
      "_view_name": "ProgressView",
      "bar_style": "success",
      "description": "",
      "description_tooltip": null,
      "layout": "IPY_MODEL_fed1fcc4a7b4411dac5ca7f03d2e2828",
      "max": 5,
      "min": 0,
      "orientation": "horizontal",
      "style": "IPY_MODEL_337acdd25f4b4d658b9f08e310774379",
      "value": 5
     }
    },
    "c30c78865c1640d7af3df2d517a402d9": {
     "model_module": "@jupyter-widgets/base",
     "model_module_version": "1.2.0",
     "model_name": "LayoutModel",
     "state": {
      "_model_module": "@jupyter-widgets/base",
      "_model_module_version": "1.2.0",
      "_model_name": "LayoutModel",
      "_view_count": null,
      "_view_module": "@jupyter-widgets/base",
      "_view_module_version": "1.2.0",
      "_view_name": "LayoutView",
      "align_content": null,
      "align_items": null,
      "align_self": null,
      "border": null,
      "bottom": null,
      "display": null,
      "flex": null,
      "flex_flow": null,
      "grid_area": null,
      "grid_auto_columns": null,
      "grid_auto_flow": null,
      "grid_auto_rows": null,
      "grid_column": null,
      "grid_gap": null,
      "grid_row": null,
      "grid_template_areas": null,
      "grid_template_columns": null,
      "grid_template_rows": null,
      "height": null,
      "justify_content": null,
      "justify_items": null,
      "left": null,
      "margin": null,
      "max_height": null,
      "max_width": null,
      "min_height": null,
      "min_width": null,
      "object_fit": null,
      "object_position": null,
      "order": null,
      "overflow": null,
      "overflow_x": null,
      "overflow_y": null,
      "padding": null,
      "right": null,
      "top": null,
      "visibility": null,
      "width": null
     }
    },
    "cd023e3749c846479b143064a2bcc373": {
     "model_module": "@jupyter-widgets/controls",
     "model_module_version": "1.5.0",
     "model_name": "HTMLModel",
     "state": {
      "_dom_classes": [],
      "_model_module": "@jupyter-widgets/controls",
      "_model_module_version": "1.5.0",
      "_model_name": "HTMLModel",
      "_view_count": null,
      "_view_module": "@jupyter-widgets/controls",
      "_view_module_version": "1.5.0",
      "_view_name": "HTMLView",
      "description": "",
      "description_tooltip": null,
      "layout": "IPY_MODEL_410557bd0aeb4ff79f205beb3ba6edd1",
      "placeholder": "​",
      "style": "IPY_MODEL_a729afbe776649199cbe0a9607ea309f",
      "value": " 50/50 [05:06&lt;00:00,  6.02s/it]"
     }
    },
    "e2ea1bbf08dd44dea383ff82ef761ae4": {
     "model_module": "@jupyter-widgets/base",
     "model_module_version": "1.2.0",
     "model_name": "LayoutModel",
     "state": {
      "_model_module": "@jupyter-widgets/base",
      "_model_module_version": "1.2.0",
      "_model_name": "LayoutModel",
      "_view_count": null,
      "_view_module": "@jupyter-widgets/base",
      "_view_module_version": "1.2.0",
      "_view_name": "LayoutView",
      "align_content": null,
      "align_items": null,
      "align_self": null,
      "border": null,
      "bottom": null,
      "display": null,
      "flex": null,
      "flex_flow": null,
      "grid_area": null,
      "grid_auto_columns": null,
      "grid_auto_flow": null,
      "grid_auto_rows": null,
      "grid_column": null,
      "grid_gap": null,
      "grid_row": null,
      "grid_template_areas": null,
      "grid_template_columns": null,
      "grid_template_rows": null,
      "height": null,
      "justify_content": null,
      "justify_items": null,
      "left": null,
      "margin": null,
      "max_height": null,
      "max_width": null,
      "min_height": null,
      "min_width": null,
      "object_fit": null,
      "object_position": null,
      "order": null,
      "overflow": null,
      "overflow_x": null,
      "overflow_y": null,
      "padding": null,
      "right": null,
      "top": null,
      "visibility": null,
      "width": null
     }
    },
    "f4a24e8bc8b24b0e9c6b8a1357a1361a": {
     "model_module": "@jupyter-widgets/controls",
     "model_module_version": "1.5.0",
     "model_name": "HBoxModel",
     "state": {
      "_dom_classes": [],
      "_model_module": "@jupyter-widgets/controls",
      "_model_module_version": "1.5.0",
      "_model_name": "HBoxModel",
      "_view_count": null,
      "_view_module": "@jupyter-widgets/controls",
      "_view_module_version": "1.5.0",
      "_view_name": "HBoxView",
      "box_style": "",
      "children": [
       "IPY_MODEL_8b0cb06d8d194377a27bca9916691121",
       "IPY_MODEL_1490f2bd27d843e098d74d9107d5d74a",
       "IPY_MODEL_cd023e3749c846479b143064a2bcc373"
      ],
      "layout": "IPY_MODEL_8c776fa8a51545e781ce806d628899bb"
     }
    },
    "fed1fcc4a7b4411dac5ca7f03d2e2828": {
     "model_module": "@jupyter-widgets/base",
     "model_module_version": "1.2.0",
     "model_name": "LayoutModel",
     "state": {
      "_model_module": "@jupyter-widgets/base",
      "_model_module_version": "1.2.0",
      "_model_name": "LayoutModel",
      "_view_count": null,
      "_view_module": "@jupyter-widgets/base",
      "_view_module_version": "1.2.0",
      "_view_name": "LayoutView",
      "align_content": null,
      "align_items": null,
      "align_self": null,
      "border": null,
      "bottom": null,
      "display": null,
      "flex": null,
      "flex_flow": null,
      "grid_area": null,
      "grid_auto_columns": null,
      "grid_auto_flow": null,
      "grid_auto_rows": null,
      "grid_column": null,
      "grid_gap": null,
      "grid_row": null,
      "grid_template_areas": null,
      "grid_template_columns": null,
      "grid_template_rows": null,
      "height": null,
      "justify_content": null,
      "justify_items": null,
      "left": null,
      "margin": null,
      "max_height": null,
      "max_width": null,
      "min_height": null,
      "min_width": null,
      "object_fit": null,
      "object_position": null,
      "order": null,
      "overflow": null,
      "overflow_x": null,
      "overflow_y": null,
      "padding": null,
      "right": null,
      "top": null,
      "visibility": null,
      "width": null
     }
    }
   }
  }
 },
 "nbformat": 4,
 "nbformat_minor": 0
}
