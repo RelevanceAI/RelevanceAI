{
 "cells": [
  {
   "cell_type": "markdown",
   "metadata": {
    "id": "H2qgv-tuKlIp"
   },
   "source": [
    "# 🏃‍♀️ Relevance AI for analyzing unstructured data"
   ]
  },
  {
   "cell_type": "markdown",
   "metadata": {},
   "source": [
    "Use [Relevance AI](https://cloud.relevance.ai/) for clustering and gaining meaning from your unstructured data."
   ]
  },
  {
   "cell_type": "markdown",
   "metadata": {
    "id": "Zc9VEsRwKlIp"
   },
   "source": [
    "## ✨ Example\n",
    "\n",
    "An example cluster app that showcases meaning amongst each group of unstructured data \n",
    "With just a few lines of code,\n",
    "you'll get rich, interactive, shareable dashboards"
   ]
  },
  {
   "cell_type": "markdown",
   "metadata": {},
   "source": [
    "![Dashboard screenshot](dashboard_screenshot.png)"
   ]
  },
  {
   "cell_type": "markdown",
   "metadata": {
    "id": "aQAcOUAAKlIq"
   },
   "source": [
    "\n",
    "## 🔒 Data & Privacy\n",
    "\n",
    "We take security very seriously, and our cloud-hosted dashboard uses industry standard best practices for encryption. Our team adhere to our [strict privacy policy](https://relevance.ai/data-security-policy/).\n",
    "\n",
    "---"
   ]
  },
  {
   "cell_type": "markdown",
   "metadata": {
    "id": "FOrvGTECKlIq"
   },
   "source": [
    "## 🪄 Install `RelevanceAI` library and authenticate the client\n",
    "\n",
    "Start by installing the library and logging in to your account."
   ]
  },
  {
   "cell_type": "code",
   "execution_count": null,
   "metadata": {
    "colab": {
     "base_uri": "https://localhost:8080/"
    },
    "id": "wjRgB4HtKlIr",
    "outputId": "b04b0f9c-d1d2-4d9d-b4fb-7dbc8f121846"
   },
   "outputs": [],
   "source": [
    "!pip install RelevanceAI -qqq"
   ]
  },
  {
   "cell_type": "code",
   "execution_count": 1,
   "metadata": {},
   "outputs": [],
   "source": [
    "In [1]: %load_ext autoreload\n",
    "\n",
    "In [2]: %autoreload 2"
   ]
  },
  {
   "cell_type": "code",
   "execution_count": 10,
   "metadata": {
    "colab": {
     "base_uri": "https://localhost:8080/"
    },
    "id": "HMFHYIruKlIs",
    "outputId": "6b25bf75-efdb-4a44-f4ea-5be2905e83b8"
   },
   "outputs": [],
   "source": [
    "from relevanceai import Client\n",
    "\n",
    "# Instantiate the client and authenticate\n",
    "client = Client()\n",
    "\n",
    "# This will prompt a link to collect your API token which includes your project and API key"
   ]
  },
  {
   "cell_type": "markdown",
   "metadata": {
    "id": "jOpyC6pxKlIs"
   },
   "source": [
    "### 📩 Upload Some Data\n",
    "1️⃣. Open a new **Dataset**\n",
    "\n",
    "2️⃣. **Insert** some documents"
   ]
  },
  {
   "cell_type": "code",
   "execution_count": 3,
   "metadata": {},
   "outputs": [],
   "source": [
    "from relevanceai.utils import example_documents\n",
    "# Get a list of example documents\n",
    "documents = example_documents(\"retail_reviews_small\", number_of_documents=300)"
   ]
  },
  {
   "cell_type": "code",
   "execution_count": 3,
   "metadata": {
    "id": "s9OuYV0-KlIt"
   },
   "outputs": [],
   "source": [
    "dataset_id = \"retail_reviews\"  \n",
    "# The dataset name that we have decided, this can be whatever you want for your own data\n",
    "dataset = client.Dataset(dataset_id=dataset_id)  \n",
    "# Instantiate the dataset"
   ]
  },
  {
   "cell_type": "code",
   "execution_count": 5,
   "metadata": {},
   "outputs": [
    {
     "name": "stdout",
     "output_type": "stream",
     "text": [
      "while inserting, you can visit monitor the dataset at https://cloud.relevance.ai/dataset/retail_reviews/dashboard/monitor/\n",
      "✅ All documents inserted/edited successfully.\n"
     ]
    }
   ],
   "source": [
    "dataset.insert_documents(documents)"
   ]
  },
  {
   "cell_type": "markdown",
   "metadata": {},
   "source": [
    "You can view your dataset quickly using `dataset.head` just like in Pandas!"
   ]
  },
  {
   "cell_type": "code",
   "execution_count": 30,
   "metadata": {},
   "outputs": [],
   "source": [
    "# dataset.head()"
   ]
  },
  {
   "cell_type": "markdown",
   "metadata": {
    "id": "PcJyoIctKlIu"
   },
   "source": [
    "## 👨‍🔬 Vectorizing And Bringing AI In\n",
    "\n",
    "💪 In order to better visualise clusters within our data, we must vectorise the unstructured fields in a our clusters. In this dataset, there are two important text fields, both located in the review body; These are the `reviews.text` and `reviews.title`. For the purposes of this tutorial, we will be vectorizing `reviews.text` only."
   ]
  },
  {
   "cell_type": "markdown",
   "metadata": {
    "id": "rBBEjtPWrVK1"
   },
   "source": [
    "### 🤔 Choosing a Vectorizer\n",
    "\n",
    "An important part of vectorizing text is around choosing which vectorizer to use. Relevance AI allows for a custom vectorizer from vectorhub, but if you can't decide, the default models for each type of unstructured data are listed below.\n",
    "\n",
    "- Text: `SentenceTransformers`\n",
    "- Images: `CLIP`"
   ]
  },
  {
   "cell_type": "code",
   "execution_count": 29,
   "metadata": {},
   "outputs": [],
   "source": [
    "# !pip install -q sentence-transformers"
   ]
  },
  {
   "cell_type": "markdown",
   "metadata": {
    "id": "qBwgMjFlKlIu"
   },
   "source": [
    "### 🤩 Vectorize in one line\n",
    "\n",
    "We support vectorizing text in just 1 line."
   ]
  },
  {
   "cell_type": "code",
   "execution_count": 6,
   "metadata": {
    "colab": {
     "base_uri": "https://localhost:8080/",
     "height": 122,
     "referenced_widgets": [
      "f4a24e8bc8b24b0e9c6b8a1357a1361a",
      "8b0cb06d8d194377a27bca9916691121",
      "1490f2bd27d843e098d74d9107d5d74a",
      "cd023e3749c846479b143064a2bcc373",
      "8c776fa8a51545e781ce806d628899bb",
      "0705feb3d82940b1a3f8beed2b483811",
      "58989990c6f5494099d46515fbd7979f",
      "e2ea1bbf08dd44dea383ff82ef761ae4",
      "a533bb16edec47e6b5d52c78e03b1ac2",
      "410557bd0aeb4ff79f205beb3ba6edd1",
      "a729afbe776649199cbe0a9607ea309f"
     ]
    },
    "id": "vJ_vRaT1KlIv",
    "outputId": "0a6ae38a-d16c-4bfe-8335-27d6bc962d1d"
   },
   "outputs": [
    {
     "data": {
      "application/vnd.jupyter.widget-view+json": {
       "model_id": "1ca1845daa1e43dcac28cfa08aae0cd0",
       "version_major": 2,
       "version_minor": 0
      },
      "text/plain": [
       "  0%|          | 0/15 [00:00<?, ?it/s]"
      ]
     },
     "metadata": {},
     "output_type": "display_data"
    },
    {
     "name": "stdout",
     "output_type": "stream",
     "text": [
      "Vector field is `reviews.text_all-mpnet-base-v2_vector_`\n",
      "✅ All documents inserted/edited successfully.\n",
      "✅ All documents inserted/edited successfully.\n",
      "✅ All documents inserted/edited successfully.\n",
      "✅ All documents inserted/edited successfully.\n",
      "✅ All documents inserted/edited successfully.\n",
      "✅ All documents inserted/edited successfully.\n",
      "✅ All documents inserted/edited successfully.\n",
      "✅ All documents inserted/edited successfully.\n",
      "✅ All documents inserted/edited successfully.\n",
      "✅ All documents inserted/edited successfully.\n",
      "✅ All documents inserted/edited successfully.\n",
      "Storing operation metadata...\n",
      "✅ You have successfully inserted metadata.\n"
     ]
    },
    {
     "data": {
      "text/plain": [
       "<relevanceai.operations_new.vectorize.text.ops.VectorizeTextOps at 0x28e4485b0>"
      ]
     },
     "execution_count": 6,
     "metadata": {},
     "output_type": "execute_result"
    }
   ],
   "source": [
    "# The text fields here are the ones we wish to construct vector representations for\n",
    "text_fields = [\"reviews.text\"]\n",
    "dataset.vectorize_text(fields=text_fields)"
   ]
  },
  {
   "cell_type": "markdown",
   "metadata": {},
   "source": [
    "## 🔍 Search Application\n",
    "\n",
    "You can also build a search application in just 1 line of code.\n",
    "\n",
    "This search application can be built by using"
   ]
  },
  {
   "cell_type": "code",
   "execution_count": 7,
   "metadata": {},
   "outputs": [
    {
     "name": "stdout",
     "output_type": "stream",
     "text": [
      "https://cloud.relevance.ai/dataset/retail_reviews/deploy/recent/explore\n"
     ]
    }
   ],
   "source": [
    "dataset.launch_search_app()"
   ]
  },
  {
   "cell_type": "markdown",
   "metadata": {},
   "source": [
    "You can view an example of our text search below."
   ]
  },
  {
   "cell_type": "markdown",
   "metadata": {},
   "source": [
    "![Text Search](text-search-gif.gif)"
   ]
  },
  {
   "cell_type": "markdown",
   "metadata": {
    "id": "hmicpLbkKlIw"
   },
   "source": [
    "## ✨ Cluster\n",
    "\n",
    "In one line of code, we can create a cluster application based on our new vector field. This application is how we will discover insights about the semantic groups in our data."
   ]
  },
  {
   "cell_type": "markdown",
   "metadata": {},
   "source": [
    "First, let us see what vector fields are availbale in the dataset."
   ]
  },
  {
   "cell_type": "code",
   "execution_count": 8,
   "metadata": {},
   "outputs": [
    {
     "data": {
      "text/plain": [
       "['reviews.text_all-mpnet-base-v2_vector_']"
      ]
     },
     "execution_count": 8,
     "metadata": {},
     "output_type": "execute_result"
    }
   ],
   "source": [
    "dataset.list_vector_fields()"
   ]
  },
  {
   "cell_type": "code",
   "execution_count": 8,
   "metadata": {
    "colab": {
     "base_uri": "https://localhost:8080/",
     "height": 158,
     "referenced_widgets": [
      "0167e38fc2684ee987ffb2c1e4e7c888",
      "a23863abcd9244628dae9c2a1bc9993e",
      "b02ee32b9f1a4b6a9cbb9d3dd3b937ff",
      "29ee73b9979742af90d1de0fb137dd4a",
      "5c13879d8f344127b64af1aa7a4f8852",
      "c30c78865c1640d7af3df2d517a402d9",
      "88c66b03f74d4072a7ca2702cde5bab1",
      "fed1fcc4a7b4411dac5ca7f03d2e2828",
      "337acdd25f4b4d658b9f08e310774379",
      "2b3e5b0d4a614498a2893f43e3fb0788",
      "280dc66a8c1a497bab17355146717d62"
     ]
    },
    "id": "mebNH7SqKlIx",
    "outputId": "799dc229-ba88-4692-b733-6d88f9ac2523"
   },
   "outputs": [
    {
     "data": {
      "application/vnd.jupyter.widget-view+json": {
       "model_id": "9fd025a0153745cfb4a730ba41d7b64f",
       "version_major": 2,
       "version_minor": 0
      },
      "text/plain": [
       "  0%|          | 0/1 [00:00<?, ?it/s]"
      ]
     },
     "metadata": {},
     "output_type": "display_data"
    },
    {
     "data": {
      "application/vnd.jupyter.widget-view+json": {
       "model_id": "9fd025a0153745cfb4a730ba41d7b64f",
       "version_major": 2,
       "version_minor": 0
      },
      "text/plain": [
       "  0%|          | 0/1 [00:00<?, ?it/s]"
      ]
     },
     "metadata": {},
     "output_type": "display_data"
    },
    {
     "name": "stdout",
     "output_type": "stream",
     "text": [
      "✅ All documents inserted/edited successfully.\n",
      "✅ All documents inserted/edited successfully.\n",
      "Storing operation metadata...\n",
      "✅ You have successfully inserted metadata.\n",
      "You can now utilise the ClusterOps object using the below:\n",
      "\n",
      "    cluster_ops = client.ClusterOps(\n",
      "        alias='kmeans-20',\n",
      "        vector_fields=['reviews.text_all-mpnet-base-v2_vector_'],\n",
      "        dataset_id='retail_reviews'\n",
      "    )\n",
      "Configure your new cluster app below:\n",
      "\n",
      "https://cloud.relevance.ai/dataset/retail_reviews/deploy/recent/explore\n",
      "Storing operation metadata...\n",
      "✅ You have successfully inserted metadata.\n",
      "You can now utilise the ClusterOps object using the below:\n",
      "\n",
      "    cluster_ops = client.ClusterOps(\n",
      "        alias='kmeans-20',\n",
      "        vector_fields=['reviews.text_all-mpnet-base-v2_vector_'],\n",
      "        dataset_id='retail_reviews'\n",
      "    )\n",
      "Configure your new cluster app below:\n",
      "\n",
      "https://cloud.relevance.ai/dataset/retail_reviews/deploy/recent/explore\n"
     ]
    }
   ],
   "source": [
    "from sklearn.cluster import KMeans\n",
    "number_of_clusters = 20\n",
    "alias = \"kmeans-20\"\n",
    "cluster_model = KMeans(n_clusters=number_of_clusters)\n",
    "vector_fields = dataset.list_vector_fields()\n",
    "cluster_ops = dataset.cluster(\n",
    "    vector_fields=vector_fields, \n",
    "    model=cluster_model, \n",
    "    alias=alias\n",
    ")"
   ]
  },
  {
   "cell_type": "markdown",
   "metadata": {
    "id": "3DGPKr071QQQ"
   },
   "source": [
    "### 🔗 The above step will produce a link to your first cluster app!\n",
    "\n",
    "Click the link provided to view your newly generated clusters in a dashboard app."
   ]
  },
  {
   "cell_type": "markdown",
   "metadata": {},
   "source": [
    "### 🤔 Choosing the Number of Clusters\n",
    "\n",
    "Most clustering algorithms require you choose the number clusters you wish to find. This can be tricky if you don’t know what the expect. Luckily, RelevanceAI uses a clustering algorithm called community detection that does not require the number of clusters to be set. Instead, the algorithm will decide how many is right for you. To discover more about other clustering methods, read more in Cluster Report."
   ]
  },
  {
   "cell_type": "markdown",
   "metadata": {},
   "source": [
    "## 🏷️ Add Labels"
   ]
  },
  {
   "cell_type": "markdown",
   "metadata": {},
   "source": [
    "Labelling refers to when you apply a vector search from one tag to another."
   ]
  },
  {
   "cell_type": "code",
   "execution_count": 21,
   "metadata": {},
   "outputs": [],
   "source": [
    "labels = [{\"label\": \"Furniture\", \"label\": \"Home office\", \"label\": \"Electronics\"}]"
   ]
  },
  {
   "cell_type": "code",
   "execution_count": 50,
   "metadata": {},
   "outputs": [
    {
     "name": "stdout",
     "output_type": "stream",
     "text": [
      "while inserting, you can visit monitor the dataset at https://cloud.relevance.ai/dataset/retail-label/dashboard/monitor/\n",
      "✅ All documents inserted/edited successfully.\n"
     ]
    }
   ],
   "source": [
    "label_dataset.insert_documents(labels)"
   ]
  },
  {
   "cell_type": "code",
   "execution_count": null,
   "metadata": {},
   "outputs": [],
   "source": [
    "# Vectorize like you would with a normal dataset\n",
    "label_dataset.vectorize_text(\n",
    "    fields=['label'], \n",
    "    output_fields=[\"label_vector_\"]\n",
    ")"
   ]
  },
  {
   "cell_type": "code",
   "execution_count": null,
   "metadata": {},
   "outputs": [],
   "source": [
    "dataset.label_from_dataset(\n",
    "    vector_fields=dataset.list_vector_fields(), \n",
    "    label_dataset=label_dataset\n",
    ")"
   ]
  },
  {
   "cell_type": "markdown",
   "metadata": {},
   "source": [
    "You can now see the labels on your dataset on Relevance AI.\n",
    "\n",
    "![Labels](label.png)"
   ]
  },
  {
   "cell_type": "markdown",
   "metadata": {},
   "source": [
    "## 🌹 Extract Sentiment\n",
    "\n",
    "You can add sentiment to your dataset - whicih will label sentiment as one of `neutral`, `positive`, `negative`."
   ]
  },
  {
   "cell_type": "code",
   "execution_count": null,
   "metadata": {},
   "outputs": [],
   "source": [
    "dataset.extract_sentiment(text_fields=[\"reviews.text\"]"
   ]
  }
 ],
 "metadata": {
  "accelerator": "GPU",
  "colab": {
   "collapsed_sections": [],
   "name": "Intro to Relevance  AI",
   "provenance": []
  },
  "kernelspec": {
   "display_name": "Python 3 (ipykernel)",
   "language": "python",
   "name": "python3"
  },
  "language_info": {
   "codemirror_mode": {
    "name": "ipython",
    "version": 3
   },
   "file_extension": ".py",
   "mimetype": "text/x-python",
   "name": "python",
   "nbconvert_exporter": "python",
   "pygments_lexer": "ipython3",
   "version": "3.8.9"
  },
  "toc": {
   "base_numbering": 1,
   "nav_menu": {},
   "number_sections": true,
   "sideBar": true,
   "skip_h1_title": false,
   "title_cell": "Table of Contents",
   "title_sidebar": "Contents",
   "toc_cell": false,
   "toc_position": {},
   "toc_section_display": true,
   "toc_window_display": true
  },
  "widgets": {
   "application/vnd.jupyter.widget-state+json": {
    "0167e38fc2684ee987ffb2c1e4e7c888": {
     "model_module": "@jupyter-widgets/controls",
     "model_module_version": "1.5.0",
     "model_name": "HBoxModel",
     "state": {
      "_dom_classes": [],
      "_model_module": "@jupyter-widgets/controls",
      "_model_module_version": "1.5.0",
      "_model_name": "HBoxModel",
      "_view_count": null,
      "_view_module": "@jupyter-widgets/controls",
      "_view_module_version": "1.5.0",
      "_view_name": "HBoxView",
      "box_style": "",
      "children": [
       "IPY_MODEL_a23863abcd9244628dae9c2a1bc9993e",
       "IPY_MODEL_b02ee32b9f1a4b6a9cbb9d3dd3b937ff",
       "IPY_MODEL_29ee73b9979742af90d1de0fb137dd4a"
      ],
      "layout": "IPY_MODEL_5c13879d8f344127b64af1aa7a4f8852"
     }
    },
    "0705feb3d82940b1a3f8beed2b483811": {
     "model_module": "@jupyter-widgets/base",
     "model_module_version": "1.2.0",
     "model_name": "LayoutModel",
     "state": {
      "_model_module": "@jupyter-widgets/base",
      "_model_module_version": "1.2.0",
      "_model_name": "LayoutModel",
      "_view_count": null,
      "_view_module": "@jupyter-widgets/base",
      "_view_module_version": "1.2.0",
      "_view_name": "LayoutView",
      "align_content": null,
      "align_items": null,
      "align_self": null,
      "border": null,
      "bottom": null,
      "display": null,
      "flex": null,
      "flex_flow": null,
      "grid_area": null,
      "grid_auto_columns": null,
      "grid_auto_flow": null,
      "grid_auto_rows": null,
      "grid_column": null,
      "grid_gap": null,
      "grid_row": null,
      "grid_template_areas": null,
      "grid_template_columns": null,
      "grid_template_rows": null,
      "height": null,
      "justify_content": null,
      "justify_items": null,
      "left": null,
      "margin": null,
      "max_height": null,
      "max_width": null,
      "min_height": null,
      "min_width": null,
      "object_fit": null,
      "object_position": null,
      "order": null,
      "overflow": null,
      "overflow_x": null,
      "overflow_y": null,
      "padding": null,
      "right": null,
      "top": null,
      "visibility": null,
      "width": null
     }
    },
    "1490f2bd27d843e098d74d9107d5d74a": {
     "model_module": "@jupyter-widgets/controls",
     "model_module_version": "1.5.0",
     "model_name": "FloatProgressModel",
     "state": {
      "_dom_classes": [],
      "_model_module": "@jupyter-widgets/controls",
      "_model_module_version": "1.5.0",
      "_model_name": "FloatProgressModel",
      "_view_count": null,
      "_view_module": "@jupyter-widgets/controls",
      "_view_module_version": "1.5.0",
      "_view_name": "ProgressView",
      "bar_style": "success",
      "description": "",
      "description_tooltip": null,
      "layout": "IPY_MODEL_e2ea1bbf08dd44dea383ff82ef761ae4",
      "max": 50,
      "min": 0,
      "orientation": "horizontal",
      "style": "IPY_MODEL_a533bb16edec47e6b5d52c78e03b1ac2",
      "value": 50
     }
    },
    "280dc66a8c1a497bab17355146717d62": {
     "model_module": "@jupyter-widgets/controls",
     "model_module_version": "1.5.0",
     "model_name": "DescriptionStyleModel",
     "state": {
      "_model_module": "@jupyter-widgets/controls",
      "_model_module_version": "1.5.0",
      "_model_name": "DescriptionStyleModel",
      "_view_count": null,
      "_view_module": "@jupyter-widgets/base",
      "_view_module_version": "1.2.0",
      "_view_name": "StyleView",
      "description_width": ""
     }
    },
    "29ee73b9979742af90d1de0fb137dd4a": {
     "model_module": "@jupyter-widgets/controls",
     "model_module_version": "1.5.0",
     "model_name": "HTMLModel",
     "state": {
      "_dom_classes": [],
      "_model_module": "@jupyter-widgets/controls",
      "_model_module_version": "1.5.0",
      "_model_name": "HTMLModel",
      "_view_count": null,
      "_view_module": "@jupyter-widgets/controls",
      "_view_module_version": "1.5.0",
      "_view_name": "HTMLView",
      "description": "",
      "description_tooltip": null,
      "layout": "IPY_MODEL_2b3e5b0d4a614498a2893f43e3fb0788",
      "placeholder": "​",
      "style": "IPY_MODEL_280dc66a8c1a497bab17355146717d62",
      "value": " 5/5 [00:12&lt;00:00,  2.45s/it]"
     }
    },
    "2b3e5b0d4a614498a2893f43e3fb0788": {
     "model_module": "@jupyter-widgets/base",
     "model_module_version": "1.2.0",
     "model_name": "LayoutModel",
     "state": {
      "_model_module": "@jupyter-widgets/base",
      "_model_module_version": "1.2.0",
      "_model_name": "LayoutModel",
      "_view_count": null,
      "_view_module": "@jupyter-widgets/base",
      "_view_module_version": "1.2.0",
      "_view_name": "LayoutView",
      "align_content": null,
      "align_items": null,
      "align_self": null,
      "border": null,
      "bottom": null,
      "display": null,
      "flex": null,
      "flex_flow": null,
      "grid_area": null,
      "grid_auto_columns": null,
      "grid_auto_flow": null,
      "grid_auto_rows": null,
      "grid_column": null,
      "grid_gap": null,
      "grid_row": null,
      "grid_template_areas": null,
      "grid_template_columns": null,
      "grid_template_rows": null,
      "height": null,
      "justify_content": null,
      "justify_items": null,
      "left": null,
      "margin": null,
      "max_height": null,
      "max_width": null,
      "min_height": null,
      "min_width": null,
      "object_fit": null,
      "object_position": null,
      "order": null,
      "overflow": null,
      "overflow_x": null,
      "overflow_y": null,
      "padding": null,
      "right": null,
      "top": null,
      "visibility": null,
      "width": null
     }
    },
    "337acdd25f4b4d658b9f08e310774379": {
     "model_module": "@jupyter-widgets/controls",
     "model_module_version": "1.5.0",
     "model_name": "ProgressStyleModel",
     "state": {
      "_model_module": "@jupyter-widgets/controls",
      "_model_module_version": "1.5.0",
      "_model_name": "ProgressStyleModel",
      "_view_count": null,
      "_view_module": "@jupyter-widgets/base",
      "_view_module_version": "1.2.0",
      "_view_name": "StyleView",
      "bar_color": null,
      "description_width": ""
     }
    },
    "410557bd0aeb4ff79f205beb3ba6edd1": {
     "model_module": "@jupyter-widgets/base",
     "model_module_version": "1.2.0",
     "model_name": "LayoutModel",
     "state": {
      "_model_module": "@jupyter-widgets/base",
      "_model_module_version": "1.2.0",
      "_model_name": "LayoutModel",
      "_view_count": null,
      "_view_module": "@jupyter-widgets/base",
      "_view_module_version": "1.2.0",
      "_view_name": "LayoutView",
      "align_content": null,
      "align_items": null,
      "align_self": null,
      "border": null,
      "bottom": null,
      "display": null,
      "flex": null,
      "flex_flow": null,
      "grid_area": null,
      "grid_auto_columns": null,
      "grid_auto_flow": null,
      "grid_auto_rows": null,
      "grid_column": null,
      "grid_gap": null,
      "grid_row": null,
      "grid_template_areas": null,
      "grid_template_columns": null,
      "grid_template_rows": null,
      "height": null,
      "justify_content": null,
      "justify_items": null,
      "left": null,
      "margin": null,
      "max_height": null,
      "max_width": null,
      "min_height": null,
      "min_width": null,
      "object_fit": null,
      "object_position": null,
      "order": null,
      "overflow": null,
      "overflow_x": null,
      "overflow_y": null,
      "padding": null,
      "right": null,
      "top": null,
      "visibility": null,
      "width": null
     }
    },
    "58989990c6f5494099d46515fbd7979f": {
     "model_module": "@jupyter-widgets/controls",
     "model_module_version": "1.5.0",
     "model_name": "DescriptionStyleModel",
     "state": {
      "_model_module": "@jupyter-widgets/controls",
      "_model_module_version": "1.5.0",
      "_model_name": "DescriptionStyleModel",
      "_view_count": null,
      "_view_module": "@jupyter-widgets/base",
      "_view_module_version": "1.2.0",
      "_view_name": "StyleView",
      "description_width": ""
     }
    },
    "5c13879d8f344127b64af1aa7a4f8852": {
     "model_module": "@jupyter-widgets/base",
     "model_module_version": "1.2.0",
     "model_name": "LayoutModel",
     "state": {
      "_model_module": "@jupyter-widgets/base",
      "_model_module_version": "1.2.0",
      "_model_name": "LayoutModel",
      "_view_count": null,
      "_view_module": "@jupyter-widgets/base",
      "_view_module_version": "1.2.0",
      "_view_name": "LayoutView",
      "align_content": null,
      "align_items": null,
      "align_self": null,
      "border": null,
      "bottom": null,
      "display": null,
      "flex": null,
      "flex_flow": null,
      "grid_area": null,
      "grid_auto_columns": null,
      "grid_auto_flow": null,
      "grid_auto_rows": null,
      "grid_column": null,
      "grid_gap": null,
      "grid_row": null,
      "grid_template_areas": null,
      "grid_template_columns": null,
      "grid_template_rows": null,
      "height": null,
      "justify_content": null,
      "justify_items": null,
      "left": null,
      "margin": null,
      "max_height": null,
      "max_width": null,
      "min_height": null,
      "min_width": null,
      "object_fit": null,
      "object_position": null,
      "order": null,
      "overflow": null,
      "overflow_x": null,
      "overflow_y": null,
      "padding": null,
      "right": null,
      "top": null,
      "visibility": null,
      "width": null
     }
    },
    "88c66b03f74d4072a7ca2702cde5bab1": {
     "model_module": "@jupyter-widgets/controls",
     "model_module_version": "1.5.0",
     "model_name": "DescriptionStyleModel",
     "state": {
      "_model_module": "@jupyter-widgets/controls",
      "_model_module_version": "1.5.0",
      "_model_name": "DescriptionStyleModel",
      "_view_count": null,
      "_view_module": "@jupyter-widgets/base",
      "_view_module_version": "1.2.0",
      "_view_name": "StyleView",
      "description_width": ""
     }
    },
    "8b0cb06d8d194377a27bca9916691121": {
     "model_module": "@jupyter-widgets/controls",
     "model_module_version": "1.5.0",
     "model_name": "HTMLModel",
     "state": {
      "_dom_classes": [],
      "_model_module": "@jupyter-widgets/controls",
      "_model_module_version": "1.5.0",
      "_model_name": "HTMLModel",
      "_view_count": null,
      "_view_module": "@jupyter-widgets/controls",
      "_view_module_version": "1.5.0",
      "_view_name": "HTMLView",
      "description": "",
      "description_tooltip": null,
      "layout": "IPY_MODEL_0705feb3d82940b1a3f8beed2b483811",
      "placeholder": "​",
      "style": "IPY_MODEL_58989990c6f5494099d46515fbd7979f",
      "value": "100%"
     }
    },
    "8c776fa8a51545e781ce806d628899bb": {
     "model_module": "@jupyter-widgets/base",
     "model_module_version": "1.2.0",
     "model_name": "LayoutModel",
     "state": {
      "_model_module": "@jupyter-widgets/base",
      "_model_module_version": "1.2.0",
      "_model_name": "LayoutModel",
      "_view_count": null,
      "_view_module": "@jupyter-widgets/base",
      "_view_module_version": "1.2.0",
      "_view_name": "LayoutView",
      "align_content": null,
      "align_items": null,
      "align_self": null,
      "border": null,
      "bottom": null,
      "display": null,
      "flex": null,
      "flex_flow": null,
      "grid_area": null,
      "grid_auto_columns": null,
      "grid_auto_flow": null,
      "grid_auto_rows": null,
      "grid_column": null,
      "grid_gap": null,
      "grid_row": null,
      "grid_template_areas": null,
      "grid_template_columns": null,
      "grid_template_rows": null,
      "height": null,
      "justify_content": null,
      "justify_items": null,
      "left": null,
      "margin": null,
      "max_height": null,
      "max_width": null,
      "min_height": null,
      "min_width": null,
      "object_fit": null,
      "object_position": null,
      "order": null,
      "overflow": null,
      "overflow_x": null,
      "overflow_y": null,
      "padding": null,
      "right": null,
      "top": null,
      "visibility": null,
      "width": null
     }
    },
    "a23863abcd9244628dae9c2a1bc9993e": {
     "model_module": "@jupyter-widgets/controls",
     "model_module_version": "1.5.0",
     "model_name": "HTMLModel",
     "state": {
      "_dom_classes": [],
      "_model_module": "@jupyter-widgets/controls",
      "_model_module_version": "1.5.0",
      "_model_name": "HTMLModel",
      "_view_count": null,
      "_view_module": "@jupyter-widgets/controls",
      "_view_module_version": "1.5.0",
      "_view_name": "HTMLView",
      "description": "",
      "description_tooltip": null,
      "layout": "IPY_MODEL_c30c78865c1640d7af3df2d517a402d9",
      "placeholder": "​",
      "style": "IPY_MODEL_88c66b03f74d4072a7ca2702cde5bab1",
      "value": "100%"
     }
    },
    "a533bb16edec47e6b5d52c78e03b1ac2": {
     "model_module": "@jupyter-widgets/controls",
     "model_module_version": "1.5.0",
     "model_name": "ProgressStyleModel",
     "state": {
      "_model_module": "@jupyter-widgets/controls",
      "_model_module_version": "1.5.0",
      "_model_name": "ProgressStyleModel",
      "_view_count": null,
      "_view_module": "@jupyter-widgets/base",
      "_view_module_version": "1.2.0",
      "_view_name": "StyleView",
      "bar_color": null,
      "description_width": ""
     }
    },
    "a729afbe776649199cbe0a9607ea309f": {
     "model_module": "@jupyter-widgets/controls",
     "model_module_version": "1.5.0",
     "model_name": "DescriptionStyleModel",
     "state": {
      "_model_module": "@jupyter-widgets/controls",
      "_model_module_version": "1.5.0",
      "_model_name": "DescriptionStyleModel",
      "_view_count": null,
      "_view_module": "@jupyter-widgets/base",
      "_view_module_version": "1.2.0",
      "_view_name": "StyleView",
      "description_width": ""
     }
    },
    "b02ee32b9f1a4b6a9cbb9d3dd3b937ff": {
     "model_module": "@jupyter-widgets/controls",
     "model_module_version": "1.5.0",
     "model_name": "FloatProgressModel",
     "state": {
      "_dom_classes": [],
      "_model_module": "@jupyter-widgets/controls",
      "_model_module_version": "1.5.0",
      "_model_name": "FloatProgressModel",
      "_view_count": null,
      "_view_module": "@jupyter-widgets/controls",
      "_view_module_version": "1.5.0",
      "_view_name": "ProgressView",
      "bar_style": "success",
      "description": "",
      "description_tooltip": null,
      "layout": "IPY_MODEL_fed1fcc4a7b4411dac5ca7f03d2e2828",
      "max": 5,
      "min": 0,
      "orientation": "horizontal",
      "style": "IPY_MODEL_337acdd25f4b4d658b9f08e310774379",
      "value": 5
     }
    },
    "c30c78865c1640d7af3df2d517a402d9": {
     "model_module": "@jupyter-widgets/base",
     "model_module_version": "1.2.0",
     "model_name": "LayoutModel",
     "state": {
      "_model_module": "@jupyter-widgets/base",
      "_model_module_version": "1.2.0",
      "_model_name": "LayoutModel",
      "_view_count": null,
      "_view_module": "@jupyter-widgets/base",
      "_view_module_version": "1.2.0",
      "_view_name": "LayoutView",
      "align_content": null,
      "align_items": null,
      "align_self": null,
      "border": null,
      "bottom": null,
      "display": null,
      "flex": null,
      "flex_flow": null,
      "grid_area": null,
      "grid_auto_columns": null,
      "grid_auto_flow": null,
      "grid_auto_rows": null,
      "grid_column": null,
      "grid_gap": null,
      "grid_row": null,
      "grid_template_areas": null,
      "grid_template_columns": null,
      "grid_template_rows": null,
      "height": null,
      "justify_content": null,
      "justify_items": null,
      "left": null,
      "margin": null,
      "max_height": null,
      "max_width": null,
      "min_height": null,
      "min_width": null,
      "object_fit": null,
      "object_position": null,
      "order": null,
      "overflow": null,
      "overflow_x": null,
      "overflow_y": null,
      "padding": null,
      "right": null,
      "top": null,
      "visibility": null,
      "width": null
     }
    },
    "cd023e3749c846479b143064a2bcc373": {
     "model_module": "@jupyter-widgets/controls",
     "model_module_version": "1.5.0",
     "model_name": "HTMLModel",
     "state": {
      "_dom_classes": [],
      "_model_module": "@jupyter-widgets/controls",
      "_model_module_version": "1.5.0",
      "_model_name": "HTMLModel",
      "_view_count": null,
      "_view_module": "@jupyter-widgets/controls",
      "_view_module_version": "1.5.0",
      "_view_name": "HTMLView",
      "description": "",
      "description_tooltip": null,
      "layout": "IPY_MODEL_410557bd0aeb4ff79f205beb3ba6edd1",
      "placeholder": "​",
      "style": "IPY_MODEL_a729afbe776649199cbe0a9607ea309f",
      "value": " 50/50 [05:06&lt;00:00,  6.02s/it]"
     }
    },
    "e2ea1bbf08dd44dea383ff82ef761ae4": {
     "model_module": "@jupyter-widgets/base",
     "model_module_version": "1.2.0",
     "model_name": "LayoutModel",
     "state": {
      "_model_module": "@jupyter-widgets/base",
      "_model_module_version": "1.2.0",
      "_model_name": "LayoutModel",
      "_view_count": null,
      "_view_module": "@jupyter-widgets/base",
      "_view_module_version": "1.2.0",
      "_view_name": "LayoutView",
      "align_content": null,
      "align_items": null,
      "align_self": null,
      "border": null,
      "bottom": null,
      "display": null,
      "flex": null,
      "flex_flow": null,
      "grid_area": null,
      "grid_auto_columns": null,
      "grid_auto_flow": null,
      "grid_auto_rows": null,
      "grid_column": null,
      "grid_gap": null,
      "grid_row": null,
      "grid_template_areas": null,
      "grid_template_columns": null,
      "grid_template_rows": null,
      "height": null,
      "justify_content": null,
      "justify_items": null,
      "left": null,
      "margin": null,
      "max_height": null,
      "max_width": null,
      "min_height": null,
      "min_width": null,
      "object_fit": null,
      "object_position": null,
      "order": null,
      "overflow": null,
      "overflow_x": null,
      "overflow_y": null,
      "padding": null,
      "right": null,
      "top": null,
      "visibility": null,
      "width": null
     }
    },
    "f4a24e8bc8b24b0e9c6b8a1357a1361a": {
     "model_module": "@jupyter-widgets/controls",
     "model_module_version": "1.5.0",
     "model_name": "HBoxModel",
     "state": {
      "_dom_classes": [],
      "_model_module": "@jupyter-widgets/controls",
      "_model_module_version": "1.5.0",
      "_model_name": "HBoxModel",
      "_view_count": null,
      "_view_module": "@jupyter-widgets/controls",
      "_view_module_version": "1.5.0",
      "_view_name": "HBoxView",
      "box_style": "",
      "children": [
       "IPY_MODEL_8b0cb06d8d194377a27bca9916691121",
       "IPY_MODEL_1490f2bd27d843e098d74d9107d5d74a",
       "IPY_MODEL_cd023e3749c846479b143064a2bcc373"
      ],
      "layout": "IPY_MODEL_8c776fa8a51545e781ce806d628899bb"
     }
    },
    "fed1fcc4a7b4411dac5ca7f03d2e2828": {
     "model_module": "@jupyter-widgets/base",
     "model_module_version": "1.2.0",
     "model_name": "LayoutModel",
     "state": {
      "_model_module": "@jupyter-widgets/base",
      "_model_module_version": "1.2.0",
      "_model_name": "LayoutModel",
      "_view_count": null,
      "_view_module": "@jupyter-widgets/base",
      "_view_module_version": "1.2.0",
      "_view_name": "LayoutView",
      "align_content": null,
      "align_items": null,
      "align_self": null,
      "border": null,
      "bottom": null,
      "display": null,
      "flex": null,
      "flex_flow": null,
      "grid_area": null,
      "grid_auto_columns": null,
      "grid_auto_flow": null,
      "grid_auto_rows": null,
      "grid_column": null,
      "grid_gap": null,
      "grid_row": null,
      "grid_template_areas": null,
      "grid_template_columns": null,
      "grid_template_rows": null,
      "height": null,
      "justify_content": null,
      "justify_items": null,
      "left": null,
      "margin": null,
      "max_height": null,
      "max_width": null,
      "min_height": null,
      "min_width": null,
      "object_fit": null,
      "object_position": null,
      "order": null,
      "overflow": null,
      "overflow_x": null,
      "overflow_y": null,
      "padding": null,
      "right": null,
      "top": null,
      "visibility": null,
      "width": null
     }
    }
   }
  }
 },
 "nbformat": 4,
 "nbformat_minor": 1
}
