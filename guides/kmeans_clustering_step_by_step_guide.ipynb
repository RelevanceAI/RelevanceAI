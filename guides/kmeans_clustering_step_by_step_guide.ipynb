{
 "cells": [
  {
   "cell_type": "markdown",
   "metadata": {},
   "source": [
    "# 🍔 K Means Clustering Step By Step"
   ]
  },
  {
   "cell_type": "markdown",
   "metadata": {
    "id": "kQFOtM9kF1Rt"
   },
   "source": [
    "# Installation"
   ]
  },
  {
   "cell_type": "code",
   "execution_count": null,
   "metadata": {
    "id": "3Kkd7AcU_O3q"
   },
   "outputs": [],
   "source": [
    "# remove `!` if running the line in a terminal\n",
    "!pip install -U RelevanceAI[notebook]==2.0.0"
   ]
  },
  {
   "cell_type": "markdown",
   "metadata": {
    "id": "uek1W9AIF4oR"
   },
   "source": [
    "# Setup"
   ]
  },
  {
   "cell_type": "markdown",
   "metadata": {
    "id": "OTKSnRaE-u2P"
   },
   "source": [
    "First, you need to set up a client object to interact with RelevanceAI."
   ]
  },
  {
   "cell_type": "code",
   "execution_count": null,
   "metadata": {
    "id": "LbapGUEn-ro7"
   },
   "outputs": [],
   "source": [
    "from relevanceai import Client\n",
    "\n",
    "client = Client()"
   ]
  },
  {
   "cell_type": "markdown",
   "metadata": {
    "id": "-W68frsVQjSw"
   },
   "source": [
    "# Data"
   ]
  },
  {
   "cell_type": "markdown",
   "metadata": {
    "id": "gFU8OU2b-yXu"
   },
   "source": [
    "You will need to have a dataset under your Relevance AI account. You can either use our e-commerce dataset as shown below or follow the tutorial on how to create your own dataset.\n",
    "\n",
    "Our e-commerce dataset includes fields such as `product_title`, as well as the vectorized version of the field `product_title_clip_vector_`. Loading these documents can be done via:\n",
    "\n"
   ]
  },
  {
   "cell_type": "markdown",
   "metadata": {
    "id": "ta-Oyh4lG4lZ"
   },
   "source": [
    "## Load the data"
   ]
  },
  {
   "cell_type": "code",
   "execution_count": null,
   "metadata": {
    "id": "lgKODDsARi-b"
   },
   "outputs": [],
   "source": [
    "from relevanceai.utils.datasets import get_ecommerce_dataset_encoded\n",
    "\n",
    "documents = get_ecommerce_dataset_encoded()\n",
    "{k: v for k, v in documents[0].items() if \"_vector_\" not in k}"
   ]
  },
  {
   "cell_type": "markdown",
   "metadata": {
    "id": "YhNCIh2kHAVe"
   },
   "source": [
    "## Upload the data to Relevance AI"
   ]
  },
  {
   "cell_type": "markdown",
   "metadata": {
    "id": "ccYrk9nW_Asf"
   },
   "source": [
    "Run the following cell, to upload these documents into your personal Relevance AI account under the name `quickstart_clustering_kmeans`"
   ]
  },
  {
   "cell_type": "code",
   "execution_count": null,
   "metadata": {
    "colab": {
     "base_uri": "https://localhost:8080/"
    },
    "id": "0gVjLArG_QBq",
    "outputId": "17c3f584-5329-461d-937e-2f9061fc0d7f"
   },
   "outputs": [],
   "source": [
    "ds = client.Dataset(\"quickstart_kmeans_clustering\")\n",
    "ds.insert_documents(documents)"
   ]
  },
  {
   "cell_type": "markdown",
   "metadata": {
    "id": "nkhOWePQHTWL"
   },
   "source": [
    "## Check the data"
   ]
  },
  {
   "cell_type": "code",
   "execution_count": null,
   "metadata": {
    "id": "q_yG91_amEb5"
   },
   "outputs": [],
   "source": [
    "ds.health()"
   ]
  },
  {
   "cell_type": "code",
   "execution_count": null,
   "metadata": {},
   "outputs": [],
   "source": [
    "ds.schema"
   ]
  },
  {
   "cell_type": "markdown",
   "metadata": {
    "id": "CF3hUto7HlTr"
   },
   "source": [
    "# Clustering"
   ]
  },
  {
   "cell_type": "markdown",
   "metadata": {
    "id": "oCJ1V4X3_Qm4"
   },
   "source": [
    "We apply the Kmeams clustering algorithm to the vector field, `product_title_clip_vector_`"
   ]
  },
  {
   "cell_type": "code",
   "execution_count": 6,
   "metadata": {
    "id": "7WyGBYaFrH0w"
   },
   "outputs": [],
   "source": [
    "from sklearn.cluster import KMeans\n",
    "\n",
    "VECTOR_FIELD = \"product_title_clip_vector_\"\n",
    "KMEAN_NUMBER_OF_CLUSTERS = 5\n",
    "ALIAS = \"kmeans_\" + str(KMEAN_NUMBER_OF_CLUSTERS)\n",
    "\n",
    "model = KMeans(n_clusters=KMEAN_NUMBER_OF_CLUSTERS)\n",
    "clusterer = client.ClusterOps(alias=ALIAS, model=model)\n",
    "clusterer.run(\n",
    "    dataset_id=\"quickstart_kmeans_clustering\",\n",
    "    vector_fields=[\"product_title_clip_vector_\"],\n",
    ")"
   ]
  },
  {
   "cell_type": "code",
   "execution_count": null,
   "metadata": {
    "id": "vJkvJF3bv2tw"
   },
   "outputs": [],
   "source": [
    "# List closest to center of the cluster\n",
    "\n",
    "clusterer.list_closest(\n",
    "    dataset_id=\"quickstart_kmeans_clustering\", vector_field=\"product_title_clip_vector_\"\n",
    ")"
   ]
  },
  {
   "cell_type": "code",
   "execution_count": null,
   "metadata": {},
   "outputs": [],
   "source": [
    "# List furthest from the center of the cluster\n",
    "\n",
    "clusterer.list_furthest(\n",
    "    dataset_id=\"quickstart_kmeans_clustering\", vector_field=\"product_title_clip_vector_\"\n",
    ")"
   ]
  },
  {
   "cell_type": "markdown",
   "metadata": {
    "id": "slKe27Wz_S_z"
   },
   "source": [
    "We download a small sample and show the clustering results using our json_shower."
   ]
  },
  {
   "cell_type": "code",
   "execution_count": null,
   "metadata": {
    "id": "obc1ycDhp1jp"
   },
   "outputs": [],
   "source": [
    "from relevanceai import show_json\n",
    "\n",
    "sample_documents = ds.sample(n=5)\n",
    "samples = [\n",
    "    {\n",
    "        \"product_title\": d[\"product_title\"],\n",
    "        \"cluster\": d[\"_cluster_\"][VECTOR_FIELD][ALIAS],\n",
    "    }\n",
    "    for d in sample_documents\n",
    "]\n",
    "\n",
    "show_json(samples, text_fields=[\"product_title\", \"cluster\"])"
   ]
  },
  {
   "cell_type": "code",
   "execution_count": null,
   "metadata": {
    "id": "ggXeVPn2-8fs"
   },
   "outputs": [],
   "source": []
  }
 ],
 "metadata": {
  "colab": {
   "collapsed_sections": [],
   "name": "RelevanceAI-ReadMe-Kmeans-Clustering-Step-by-Step.ipynb",
   "provenance": []
  },
  "kernelspec": {
   "display_name": "Python 3",
   "name": "python3"
  },
  "language_info": {
   "name": "python"
  }
 },
 "nbformat": 4,
 "nbformat_minor": 0
}
