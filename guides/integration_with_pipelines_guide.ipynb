{
 "cells": [
  {
   "cell_type": "code",
   "execution_count": 1,
   "id": "3af488e7",
   "metadata": {},
   "outputs": [],
   "source": [
    "In [1]: %load_ext autoreload\n",
    "\n",
    "In [2]: %autoreload 2"
   ]
  },
  {
   "cell_type": "markdown",
   "id": "70f38244",
   "metadata": {},
   "source": [
    "# Set-up"
   ]
  },
  {
   "cell_type": "code",
   "execution_count": 2,
   "id": "49a258a4",
   "metadata": {},
   "outputs": [],
   "source": [
    "from relevanceai import Client"
   ]
  },
  {
   "cell_type": "code",
   "execution_count": 10,
   "id": "acc4a6a5",
   "metadata": {},
   "outputs": [],
   "source": [
    "client = Client()"
   ]
  },
  {
   "cell_type": "code",
   "execution_count": 29,
   "id": "931edc01",
   "metadata": {},
   "outputs": [],
   "source": [
    "ds = client.Dataset(\"ecommerce-example\")"
   ]
  },
  {
   "cell_type": "code",
   "execution_count": 37,
   "id": "76d29e0c",
   "metadata": {},
   "outputs": [],
   "source": [
    "# Uncomment out below if you want the e-commerce dataset\n",
    "# from relevanceai.utils.datasets import get_ecommerce_dataset_encoded\n",
    "# docs = get_ecommerce_dataset_encoded()\n",
    "# ds.upsert_documents(docs)"
   ]
  },
  {
   "cell_type": "markdown",
   "id": "c13d0ad4",
   "metadata": {},
   "source": [
    "# Installing Transformers"
   ]
  },
  {
   "cell_type": "code",
   "execution_count": 38,
   "id": "893011bb",
   "metadata": {},
   "outputs": [],
   "source": [
    "# !pip install -q transformers"
   ]
  },
  {
   "cell_type": "markdown",
   "id": "62062f1c",
   "metadata": {},
   "source": [
    "Here, we define a sample Transformers pipeline."
   ]
  },
  {
   "cell_type": "markdown",
   "id": "5ecfa13b",
   "metadata": {},
   "source": [
    "# Transformers Pipeline"
   ]
  },
  {
   "cell_type": "code",
   "execution_count": 24,
   "id": "2c6904d4",
   "metadata": {},
   "outputs": [
    {
     "name": "stdout",
     "output_type": "stream",
     "text": [
      "[{'entity': 'B-PER', 'score': 0.9990139, 'index': 4, 'word': 'Wolfgang', 'start': 11, 'end': 19}, {'entity': 'B-LOC', 'score': 0.999645, 'index': 9, 'word': 'Berlin', 'start': 34, 'end': 40}]\n"
     ]
    }
   ],
   "source": [
    "from transformers import AutoTokenizer, AutoModelForTokenClassification\n",
    "from transformers import pipeline\n",
    "\n",
    "tokenizer = AutoTokenizer.from_pretrained(\"dslim/bert-base-NER\")\n",
    "model = AutoModelForTokenClassification.from_pretrained(\"dslim/bert-base-NER\")\n",
    "\n",
    "nlp = pipeline(\"ner\", model=model, tokenizer=tokenizer)\n",
    "example = \"My name is Wolfgang and I live in Berlin\"\n",
    "\n",
    "ner_results = nlp(example)\n",
    "print(ner_results)"
   ]
  },
  {
   "cell_type": "markdown",
   "id": "926e52fc",
   "metadata": {},
   "source": [
    "# Running Transformers"
   ]
  },
  {
   "cell_type": "code",
   "execution_count": 31,
   "id": "53719d78",
   "metadata": {},
   "outputs": [
    {
     "data": {
      "application/vnd.jupyter.widget-view+json": {
       "model_id": "3ad3cd79d58f4912b955d80f537e0135",
       "version_major": 2,
       "version_minor": 0
      },
      "text/plain": [
       "  0%|          | 0/1 [00:00<?, ?it/s]"
      ]
     },
     "metadata": {},
     "output_type": "display_data"
    },
    {
     "name": "stdout",
     "output_type": "stream",
     "text": [
      "✅ All documents inserted/edited successfully.\n",
      "Storing operation metadata...\n",
      "✅ You have successfully inserted metadata.\n"
     ]
    }
   ],
   "source": [
    "# We can apply HuggingFace Pipelines\n",
    "ds.apply_transformers_pipeline(\n",
    "    text_fields=[\"product_title\"], pipeline=nlp\n",
    ")"
   ]
  },
  {
   "cell_type": "markdown",
   "id": "d5f0ee51",
   "metadata": {},
   "source": [
    "# Viewing NER Results"
   ]
  },
  {
   "cell_type": "markdown",
   "id": "715e6079",
   "metadata": {},
   "source": [
    "We can see how they are stored below!"
   ]
  },
  {
   "cell_type": "code",
   "execution_count": 32,
   "id": "a713c20b",
   "metadata": {},
   "outputs": [
    {
     "data": {
      "text/plain": [
       "{'_ner_': 'dict',\n",
       " '_ner_.dslim/bert-base-NER': 'dict',\n",
       " '_ner_.dslim/bert-base-NER.product_title': 'dict',\n",
       " '_ner_.dslim/bert-base-NER.product_title.end': 'numeric',\n",
       " '_ner_.dslim/bert-base-NER.product_title.entity': 'text',\n",
       " '_ner_.dslim/bert-base-NER.product_title.index': 'numeric',\n",
       " '_ner_.dslim/bert-base-NER.product_title.score': 'numeric',\n",
       " '_ner_.dslim/bert-base-NER.product_title.start': 'numeric',\n",
       " '_ner_.dslim/bert-base-NER.product_title.word': 'text',\n",
       " 'insert_date_': 'date',\n",
       " 'price': 'numeric',\n",
       " 'product_image': 'text',\n",
       " 'product_image_clip_vector_': {'vector': 512},\n",
       " 'product_link': 'text',\n",
       " 'product_price': 'text',\n",
       " 'product_title': 'text',\n",
       " 'product_title_clip_vector_': {'vector': 512},\n",
       " 'query': 'text',\n",
       " 'source': 'text'}"
      ]
     },
     "execution_count": 32,
     "metadata": {},
     "output_type": "execute_result"
    }
   ],
   "source": [
    "ds.schema"
   ]
  },
  {
   "cell_type": "code",
   "execution_count": 35,
   "id": "5e8b64cb",
   "metadata": {},
   "outputs": [
    {
     "name": "stdout",
     "output_type": "stream",
     "text": [
      "https://cloud.relevance.ai/dataset/ecommerce-example/dashboard/data?page=1\n"
     ]
    },
    {
     "data": {
      "text/html": [
       "<table border=\"1\" class=\"dataframe\">\n",
       "  <thead>\n",
       "    <tr style=\"text-align: right;\">\n",
       "      <th></th>\n",
       "      <th>product_title</th>\n",
       "      <th>_id</th>\n",
       "      <th>_ner_.dslim/bert-base-NER.product_title</th>\n",
       "    </tr>\n",
       "  </thead>\n",
       "  <tbody>\n",
       "    <tr>\n",
       "      <th>0</th>\n",
       "      <td>Seville Classics 10-Drawer Organizer Cart</td>\n",
       "      <td>0007a669-07e9-4a4a-b63c-40312690b381</td>\n",
       "      <td>[{'score': 0.9612383842468262, 'start': 0, 'index': 1, 'end': 7, 'word': 'Seville', 'entity': 'B-MISC'}, {'score': 0.9937147498130798, 'start': 8, 'index': 2, 'end': 16, 'word': 'Classics', 'entity': 'I-MISC'}]</td>\n",
       "    </tr>\n",
       "    <tr>\n",
       "      <th>1</th>\n",
       "      <td>Nike Women's 'Zoom Hyperquickness' Synthetic Athletic Shoe (Size 6 )</td>\n",
       "      <td>00445000-a8ed-4523-b610-f70aa79d47f7</td>\n",
       "      <td>[{'score': 0.9958500862121582, 'start': 0, 'index': 1, 'end': 4, 'word': 'Nike', 'entity': 'B-ORG'}, {'score': 0.5315994024276733, 'start': 19, 'index': 8, 'end': 20, 'word': 'H', 'entity': 'I-MISC'}, {'score': 0.5882592797279358, 'start': 24, 'index': 10, 'end': 27, 'word': '##qui', 'entity': 'I-MISC'}, {'score': 0.8706270456314087, 'start': 45, 'index': 17, 'end': 53, 'word': 'Athletic', 'entity': 'I-ORG'}, {'score': 0.8434967994689941, 'start': 54, 'index': 18, 'end': 55, 'word': 'S', 'entity': 'I-ORG'}, {'score': 0.6403887867927551, 'start': 55, 'index': 19, 'end': 58, 'word': '##hoe', 'entity': 'I-ORG'}]</td>\n",
       "    </tr>\n",
       "    <tr>\n",
       "      <th>2</th>\n",
       "      <td>Men's DC Shoes Villain TX Black/Black/Black</td>\n",
       "      <td>00a3d45e-2096-46aa-94c6-7d8480fb1436</td>\n",
       "      <td>[{'score': 0.6886934041976929, 'start': 9, 'index': 5, 'end': 14, 'word': 'Shoes', 'entity': 'I-ORG'}, {'score': 0.4493587613105774, 'start': 32, 'index': 11, 'end': 37, 'word': 'Black', 'entity': 'B-LOC'}]</td>\n",
       "    </tr>\n",
       "    <tr>\n",
       "      <th>3</th>\n",
       "      <td>AGRA .5-ounce Under Eye and Neck Cream</td>\n",
       "      <td>01317a4c-2136-4fa3-be56-c07d79a646b3</td>\n",
       "      <td>[]</td>\n",
       "    </tr>\n",
       "    <tr>\n",
       "      <th>4</th>\n",
       "      <td>Organize It All Black Storage Open Drawer Cube</td>\n",
       "      <td>0165f12a-cc93-4306-8161-750511e9a997</td>\n",
       "      <td>[{'score': 0.49954599142074585, 'start': 16, 'index': 5, 'end': 21, 'word': 'Black', 'entity': 'I-MISC'}, {'score': 0.6008133888244629, 'start': 22, 'index': 6, 'end': 24, 'word': 'St', 'entity': 'I-MISC'}, {'score': 0.762143075466156, 'start': 35, 'index': 9, 'end': 39, 'word': 'Draw', 'entity': 'I-MISC'}, {'score': 0.9884127974510193, 'start': 42, 'index': 11, 'end': 43, 'word': 'C', 'entity': 'I-MISC'}]</td>\n",
       "    </tr>\n",
       "  </tbody>\n",
       "</table>"
      ],
      "text/plain": [
       "<IPython.core.display.HTML object>"
      ]
     },
     "execution_count": 35,
     "metadata": {},
     "output_type": "execute_result"
    }
   ],
   "source": [
    "ds.head(select_fields=['product_title', '_ner_.dslim/bert-base-NER.product_title'])"
   ]
  },
  {
   "cell_type": "markdown",
   "id": "bd5234b4",
   "metadata": {},
   "source": [
    "We can also see how it can be found in our metadata!"
   ]
  },
  {
   "cell_type": "code",
   "execution_count": 36,
   "id": "4d22fdfd",
   "metadata": {},
   "outputs": [
    {
     "data": {
      "text/plain": [
       "{'_operationhistory_': {'1653873505-991286': {'operation': 'dslim/bert-base-NER', 'parameters': \"{'operation': 'dslim/bert-base-NER', 'values': {'text_fields': ['product_title'], 'pipeline': <transformers.pipelines.token_classification.TokenClassificationPipeline object at 0x2a09eed90>, 'task': 'ner', '_name': 'dslim/bert-base-NER', 'output_field': '_ner_.dslim/bert-base-NER.product_title'}}\"}}}"
      ]
     },
     "execution_count": 36,
     "metadata": {},
     "output_type": "execute_result"
    }
   ],
   "source": [
    "ds.metadata"
   ]
  }
 ],
 "metadata": {
  "kernelspec": {
   "display_name": "Python 3 (ipykernel)",
   "language": "python",
   "name": "python3"
  },
  "language_info": {
   "codemirror_mode": {
    "name": "ipython",
    "version": 3
   },
   "file_extension": ".py",
   "mimetype": "text/x-python",
   "name": "python",
   "nbconvert_exporter": "python",
   "pygments_lexer": "ipython3",
   "version": "3.8.9"
  }
 },
 "nbformat": 4,
 "nbformat_minor": 5
}
